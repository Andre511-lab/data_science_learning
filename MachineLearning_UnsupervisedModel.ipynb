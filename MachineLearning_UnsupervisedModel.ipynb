{
 "cells": [
  {
   "cell_type": "markdown",
   "metadata": {},
   "source": [
    "## Pendahuluan\n",
    "\n",
    "### Pengertian Machine Learning\n",
    "\n",
    "Machine Learning adalah bidang ilmu yang berfokus pada pengembangan algoritma yang dapat belajar dari dan membuat prediksi atau keputusan berdasarkan data. \n",
    "\n",
    "Secara umum, ada tiga kategori utama dalam Machine Learning, yaitu Supervised Learning, Unsupervised Learning, dan Reinforcement Learning.\n",
    "\n",
    "Supervised Learning adalah proses melatih model dengan menggunakan data berlabel, di mana setiap data memiliki label atau target yang diinginkan. Contoh metode Supervised Learning adalah regresi dan klasifikasi.\n",
    "\n",
    "### Pengertian Unsupervised Learning\n",
    "\n",
    "Unsupervised Learning adalah metode Machine Learning yang tidak menggunakan data berlabel. Model akan belajar dari data tanpa ada informasi mengenai target yang diinginkan. Dalam Unsupervised Learning, algoritma akan mencoba mengidentifikasi pola atau struktur yang tersembunyi dalam data. Unsupervised Learning memiliki banyak potensi untuk digunakan dalam berbagai aplikasi karena dapat mengatasi masalah di mana data berlabel tidak tersedia atau sulit diperoleh.\n",
    "\n",
    "### Aplikasi Unsupervised Learning dalam industri\n",
    "\n",
    "Unsupervised Learning memiliki berbagai aplikasi dalam industri dan penelitian. Beberapa contoh aplikasi yang umum dan bermanfaat dari Unsupervised Learning adalah:\n",
    "\n",
    "a. Segmentasi Pelanggan: Unsupervised Learning dapat digunakan untuk mengelompokkan pelanggan berdasarkan karakteristik demografis, perilaku belanja, atau preferensi produk. Dengan mengetahui segmentasi ini, perusahaan dapat menargetkan stratefi pemasaran yang lebih efektif dan meningkatkan penjualan serta kepuasan pelanggan.\n",
    "\n",
    "b. Deteksi Anomali: Unsupervised Learning dapat digunakan untuk mengidentifikasi pola atau aktivitas yang tidak biasa dalam data. Contohnya, pada sistem keamanan jaringan, deteksi anomali dapat mengidentifikasi serangan atau kegiatan yang mencurigakan. Pada bidang keuangan, deteksi anomali dapat membantu mengidentifikasi transaksi mencurigakan atau penipuan kartu kredit.\n",
    "\n",
    "c. Rekomendasi Produk: Sistem rekomendasi menggunakan Unsupervised Learning untuk mengidentifikasi pola dalam preferensi pengguna dan mengelompokkan item serupa. Dengan mengetahui hubungan antara produk, sistem dapat merekomendasikan produk yang paling relevan dengan preferensi pengguna, sehingga meningkatkan penjualan dan kepuasan pelanggan.\n",
    "\n",
    "d. Analisis Teks: Unsupervised Learning sangat berguna dalam mengelola dan menggali informasi dari teks dalam jumlah besar. Dengan menggunakan metode seperti clustering dan topic modelling, algoritma dapat mengidentifikasi topik utama dalam teks dan mengelompokkan dokumen yang terkait. Hal ini sangat berguna untuk analisis sentimen, pengelompokkan berita, atau pengelompokkan dokumen.\n",
    "\n",
    "e. Analisis Citra: Unsupervised Learning dapat digunakan untuk mengelompokkan atau mengurangi dimensi data citra. Hal ini sangat berguna dalam aplikasi seperti pengenalan wajah, kompresi citra, atau pemisahan objek dalam citra.\n",
    "\n",
    "f. Bioinformatika: Unsupervised Learning memiliki banyak aplikasi dalam bioinformatika, seperti analisis ekspresi gen, pengelompokan protein, atau analisis struktur molekul. Dengan mengidentifikasi pola dalam data bilogis, ilmuwan dapat memahami proses yang mendasari kehidupan dan mengembangkan terapi yang lebih efektif untuk berbagai penyakit."
   ]
  },
  {
   "cell_type": "markdown",
   "metadata": {},
   "source": [
    "## Persiapan Data pada Unsupervised Learning\n",
    "\n",
    "### Data Collection\n",
    "\n",
    "Data Collection merupakan langkah awal dalam proses pembelajaran mesin yang sangat penting. Kualitas data yang kamu kumpulkan akan sangat mempengaruhi kualitas model yang dihasilkan. Dalam Unsupervised Learning, kamu akan bekerja dengan data yang tidak memiliki label target. Oleh karena itu, sangat penting untuk mengumpulkan data yang informatif dan mewakili pola atau struktur yang ingin kamu temukan.\n",
    "\n",
    "#### Identifikasi Tujuan dan Aplikasi Model\n",
    "\n",
    "Sebelum mulai mengumpulkan data, kamu harus menentukan tujuan dari model Unsupervised Learning yang ingin kamu bangun. Apakah kamu ingin mengelompokkan data berdasarkan kesamaan fitur? Atau mungkin kamu ingin mengurangi dimensi data untuk visualisasi atau analisis lebih lanjut? Dengan mengetahui tujuan dari model, kamu akan lebih mudah dalam menentukan jenis data yang perlu kamu kumpulkan. Selain itu, kamu harus mempertimbangkan aplikasi dari model. Model yang akan digunakan untuk analisis teks memerlukan jenis data yang berbeda dari model yang digunakan untuk analisis citra. Jadi, pastikan untuk mengumpulkan data yang sesuai dengan aplikasi yang ingin kamu gunakan.\n",
    "\n",
    "#### Identifikasi Sumber Data\n",
    "\n",
    "Setelah mengetahui tujuan dan aplikasi dari model, langkah selanjutnya adalah mencari sumber data yang relevan. Sumber data dapat berasal dari berbagai tempat, seperti database perusahaan, situs web, sensor, atau bahkan data yang dikumpulkan oleh pengguna. Ada beberapa hal yang perlu kamu pertimbangkan saat memilih sumber data:\n",
    "\n",
    "- Relevansi: Pastikan data yang kamu kumpulkan relevan dengan tujuan dan aplikasi model. Jika data tidak relevan, model yang dihasilkan mungkin tidak akan berguna atau bahkan menyesatkan.\n",
    "- Kualitas: Kualitas data sangat penting dalam proses pembelajaran mesin. Data yang buruk atau tidak akurat dapat menghasilkan model yang buruk. Pastikan sumber data yang kamu pilih memiliki reputasi yang baik dan konsisten dalam menghasilkan data berkualitastinggi.\n",
    "- Aksesibilitas: Pastikan kamu memiliki akses yang mudah dan legal ke sumber data yang kamu pilih. Beberapa sumber data mungkin memiliki batasan dalam hal penggunaan atau memerlukan izin khusus.\n",
    "- Kuantitas: Dalam pembelajaran mesin, biasanya lebih banyak data akan menghasilkan model yang lebih baik. Pastikan kamu memiliki cukup data untuk melatih model Unsupervised Learning.\n",
    "\n",
    "#### Mengumpulkan Data\n",
    "\n",
    "Setelah mengidentifikasi sumber data yang sesuai, langkah selanjutnya adalah mengumpulkan data itu sendiri. Berikut adalah beberapa metode yang dapat kamu gunakan untuk mengumpulkan data:\n",
    "\n",
    "- Ekstraksi data dari database: Jika data yang kamu butuhkan tersimpan dalam database, kamu dapat menggunakan query SQL atau alat ekstraksi data lainnya untuk mengambil data yang diperlukan. Pastikan untuk memilih fitur yang relevan dengan tujuan dan aplikasi model.\n",
    "- Web Scraping: Jika data yang kamu butuhkan berasal dari situs web, kamu dapat menggunakan teknik web scraping untuk mengambil data tersebut. Web scraping adalah proses ekstraksi data dari situs web dengan menggunakan program atau script. Ada banyak library Python yang bisa kamu gunakan untuk web scraping, seperti BeautifulSoup, Scrapy, dan Selenium.\n",
    "- Pengumpulan data melalui API: Beberapa layanan atau platform menyediakan API (Application Programming Interface) yang memungkinkan kamu untuk mengakses data mereka secara langsung. Contohnya adalah Twitter API, Facebook API, dan Google Analytics API. Kamu bisa menggunakan library Python seperti Requests atau Tweepy untuk mengakses data melalui API.\n",
    "- Pengumpulan data dari sensor atau perangkat IoT: Jika kamu bekerja dengan data yang dikumpulkan dari sensor atau perangkat Internet of Things (IoT), kamu mungkin perlu mengembangkan sistem untuk mengumpulkan dan mengirim data ke server atau platform analisis. Kamu bisa menggunakan protokol komunikasi seperti MQTT atau HTTP untuk mengirim data dari perangkat ke server.\n",
    "- Survei atau pengumpulan data oleh pengguna: Dalam beberapa kasus, data yang kamu butuhkan mungkin tidak tersedia secara online atau melalui sumber eksternal. Dalam situasi seperti itu, kamu mungkin perlu mengumpulkan data secara manual melalui survei atau melibatkan pengguna untuk mengumpulkan data. Pastikan untuk merancang survei atau alat pengumpulan data dengan baik agar menghasilkan data yang akurat dan relevan.\n",
    "\n",
    "#### Penyimpanan Data\n",
    "\n",
    "Setelah data berhasil dikumpulkan, kamu perlu menyimpannya dalam format yang sesuai untuk analisis lebih lanjut. Kamu mungkin perlu menggabungkan data dari berbagai sumber atau format sebelum menyimpannya. Berikut adalah beberapa format penyimpanan data yang umum digunakan dalam Machine Learning:\n",
    "\n",
    "- CSV (Comma Separated Values): CSV adalah format file teks sederhana yang digunakan untuk menyimpan data dalam bentuk tabel. CSV mudah dibaca oleh manusia dan kompatibel dengan berbagai aplikasi dan library.\n",
    "- Excel: Microsoft Excel adalah aplikasi pengolah spreadsheet yang populer dan sering digunakan untuk menyimpan data dalam bentuk tabel. Kamu bisa menggunakan library Python seperti Pandas atau Openpyxl untuk membaca dan menulis data dalam format Excel.\n",
    "- SQL: SQL (Structured Query Language) adalah bahasa pemrograman yang digunakan untuk mengelola data dalam sistem manajemen basis data relasional (RDBMS). Kamu bisa menggunakan library Python seperti SQLite, MySQL, atau PostgreSQL untuk menyimpan dan mengakses data dalam format SQL.\n",
    "- JSON (JavaScript Object Notation): JSON adalah format data ringan yang mudah dibaca oleh manusia dan komputer. JSON cocok untuk menyimpan data dengan struktur yang lebih kompleks daripada tabel, seperti data hierarkis atau data yang memiliki banyak relasi. Kamu bisa menggunakan library Python seperti json atau simplejson untuk membaca dan menulis data dalam format JSON.\n",
    "- NoSQL: NoSQL adalah keluarga sistem manajemen basis data yang tidak menggunakan SQL sebagai bahasa query utama. NoSQL cocok untuk menyimpan data dalam skala besar atau data dengan struktur yang tidak teratur. Beberapa contoh sistem NoSQL yang populer adalah MongoDB, Cassandra, dan Redis.\n",
    "\n",
    "Dalam proses pengumpulan data, sangat penting untuk menjaga keamanan dan privasi data. Pastikan kamu mematuhi peraturan dan regulasi yang berlaku, seperti GDPR (General Data Protection Regulation) atau undang-undang perlindungan data setempat. Selalu lindungi data pengguna dan jangan mengumpulkan informasi yang tidak perlu atau sensitif.\n",
    "\n",
    "### Data Cleaning\n",
    "\n",
    "Data cleaning adalah proses mengidentifikasi dan mengoreksi kesalahan, inkonsistensi, atau ketidaklengkapan dalam data yang dikumpulkan. Tujuan dari data cleaning adalah untuk meningkatkan kualitas data dan memastikan bahwa model Unsupervised Learning yang dihasilkan memiliki kinerja yang optimal. Berikut adalah beberapa langkah yang perlu kamu pertimbangkan dalam proses data cleaning:\n",
    "\n",
    "#### Deteksi dan penghapusan data duplikat\n",
    "\n",
    "Data duplikat adalah entri data yang identik atau sangat mirip satu sama lain. Data duplikat bisa menyebabkan bias dalam model Unsupervised Learning dan mengurangi kinerjanya. Kamu bisa menggunakan library Python seperti Pandas untuk mengidentifikasi dan menghapus data duplikat. Pandas menyediakan fungsi drop_duplicates() yang bisa kamu gunakan untuk menghapus baris duplikat dalam dataset. Sebagai contoh:\n"
   ]
  },
  {
   "cell_type": "code",
   "execution_count": 1,
   "metadata": {},
   "outputs": [
    {
     "data": {
      "text/html": [
       "<div>\n",
       "<style scoped>\n",
       "    .dataframe tbody tr th:only-of-type {\n",
       "        vertical-align: middle;\n",
       "    }\n",
       "\n",
       "    .dataframe tbody tr th {\n",
       "        vertical-align: top;\n",
       "    }\n",
       "\n",
       "    .dataframe thead th {\n",
       "        text-align: right;\n",
       "    }\n",
       "</style>\n",
       "<table border=\"1\" class=\"dataframe\">\n",
       "  <thead>\n",
       "    <tr style=\"text-align: right;\">\n",
       "      <th></th>\n",
       "      <th>A</th>\n",
       "      <th>B</th>\n",
       "    </tr>\n",
       "  </thead>\n",
       "  <tbody>\n",
       "    <tr>\n",
       "      <th>0</th>\n",
       "      <td>1</td>\n",
       "      <td>5</td>\n",
       "    </tr>\n",
       "    <tr>\n",
       "      <th>1</th>\n",
       "      <td>2</td>\n",
       "      <td>6</td>\n",
       "    </tr>\n",
       "    <tr>\n",
       "      <th>3</th>\n",
       "      <td>3</td>\n",
       "      <td>7</td>\n",
       "    </tr>\n",
       "    <tr>\n",
       "      <th>4</th>\n",
       "      <td>4</td>\n",
       "      <td>8</td>\n",
       "    </tr>\n",
       "  </tbody>\n",
       "</table>\n",
       "</div>"
      ],
      "text/plain": [
       "   A  B\n",
       "0  1  5\n",
       "1  2  6\n",
       "3  3  7\n",
       "4  4  8"
      ]
     },
     "execution_count": 1,
     "metadata": {},
     "output_type": "execute_result"
    }
   ],
   "source": [
    "import pandas as pd\n",
    "\n",
    "# Data sintetis\n",
    "data = pd.DataFrame({'A': [1, 2, 2, 3, 4, 4],\n",
    "                     'B': [5, 6, 6, 7, 8, 8]})\n",
    "\n",
    "# Menghapus baris duplikat\n",
    "data = data.drop_duplicates()\n",
    "data"
   ]
  },
  {
   "cell_type": "markdown",
   "metadata": {},
   "source": [
    "Dalam contoh ini, kita membuat DataFrame sintetis menggunakan Pandas dengan kolom 'A' dan 'B'. Kemudian, kita menggunakan fungsi drop_duplicates() untuk menghapus baris duplikat dan mencetak DataFrame yang sudah dibersihkan."
   ]
  },
  {
   "cell_type": "markdown",
   "metadata": {},
   "source": [
    "#### Mengatasi data yang hilang\n",
    "\n",
    "Data yang hilang atau tidak lengkap bisa menyebabkan masalah dalam proses pembelajaran mesin. Ada beberapa metode yang bisa kamu gunakan untuk mengatasi data yang hilang, seperti:\n",
    "\n",
    "- Penghapusan baris atau kolom yang memiliki data yang hilang: Metode ini efektif jika jumlah data yang hilang relatif kecil dan penghapusan data tidak akan menyebabkan kehilangan informasi yang penting. Kamu bisa menggunakan fungsi dropna() dari Pandas untuk menghapus baris atau kolom yang memiliki data yang hilang. Sebagai contoh:\n"
   ]
  },
  {
   "cell_type": "code",
   "execution_count": 2,
   "metadata": {},
   "outputs": [
    {
     "data": {
      "text/html": [
       "<div>\n",
       "<style scoped>\n",
       "    .dataframe tbody tr th:only-of-type {\n",
       "        vertical-align: middle;\n",
       "    }\n",
       "\n",
       "    .dataframe tbody tr th {\n",
       "        vertical-align: top;\n",
       "    }\n",
       "\n",
       "    .dataframe thead th {\n",
       "        text-align: right;\n",
       "    }\n",
       "</style>\n",
       "<table border=\"1\" class=\"dataframe\">\n",
       "  <thead>\n",
       "    <tr style=\"text-align: right;\">\n",
       "      <th></th>\n",
       "      <th>A</th>\n",
       "      <th>B</th>\n",
       "    </tr>\n",
       "  </thead>\n",
       "  <tbody>\n",
       "    <tr>\n",
       "      <th>0</th>\n",
       "      <td>1.0</td>\n",
       "      <td>5.0</td>\n",
       "    </tr>\n",
       "    <tr>\n",
       "      <th>3</th>\n",
       "      <td>3.0</td>\n",
       "      <td>7.0</td>\n",
       "    </tr>\n",
       "    <tr>\n",
       "      <th>4</th>\n",
       "      <td>4.0</td>\n",
       "      <td>8.0</td>\n",
       "    </tr>\n",
       "  </tbody>\n",
       "</table>\n",
       "</div>"
      ],
      "text/plain": [
       "     A    B\n",
       "0  1.0  5.0\n",
       "3  3.0  7.0\n",
       "4  4.0  8.0"
      ]
     },
     "execution_count": 2,
     "metadata": {},
     "output_type": "execute_result"
    }
   ],
   "source": [
    "import pandas as pd\n",
    "\n",
    "# Data sintetis dengan nilai yang hilang (NaN)\n",
    "data = pd.DataFrame({'A': [1, 2, None, 3, 4, None],\n",
    "                     'B': [5, None, 6, 7, 8, None]})\n",
    "\n",
    "# Menghapus baris yang memiliki data yang hilang\n",
    "data = data.dropna()\n",
    "data"
   ]
  },
  {
   "cell_type": "markdown",
   "metadata": {},
   "source": [
    "Dalam contoh ini, kita membuat DataFrame sintetis dengan beberapa nilai yang hilang (None). Kemudian, kita menggunakan fungsi dropna() untuk menghapus baris yang memiliki data yang hilang dan mencetak DataFrame yang sudah dibersihkan."
   ]
  },
  {
   "cell_type": "markdown",
   "metadata": {},
   "source": [
    "- Imputasi data dengan menggunakan rata-rata atau median: Imputasi adalah proses penggantian data yang hilang dengan nilai yang diestimasi. Kamu bisa menggunakan rata-rata atau median dari kolom yang relevan untuk mengisi data yang hilang. Fungsi fillna() dari Pandas dapat digunakan untuk mengisi data yang hilang dengan nilai yang diinginkan. Sebagai contoh:\n"
   ]
  },
  {
   "cell_type": "code",
   "execution_count": 3,
   "metadata": {},
   "outputs": [
    {
     "data": {
      "text/html": [
       "<div>\n",
       "<style scoped>\n",
       "    .dataframe tbody tr th:only-of-type {\n",
       "        vertical-align: middle;\n",
       "    }\n",
       "\n",
       "    .dataframe tbody tr th {\n",
       "        vertical-align: top;\n",
       "    }\n",
       "\n",
       "    .dataframe thead th {\n",
       "        text-align: right;\n",
       "    }\n",
       "</style>\n",
       "<table border=\"1\" class=\"dataframe\">\n",
       "  <thead>\n",
       "    <tr style=\"text-align: right;\">\n",
       "      <th></th>\n",
       "      <th>A</th>\n",
       "      <th>B</th>\n",
       "    </tr>\n",
       "  </thead>\n",
       "  <tbody>\n",
       "    <tr>\n",
       "      <th>0</th>\n",
       "      <td>1.0</td>\n",
       "      <td>5.0</td>\n",
       "    </tr>\n",
       "    <tr>\n",
       "      <th>1</th>\n",
       "      <td>2.0</td>\n",
       "      <td>6.5</td>\n",
       "    </tr>\n",
       "    <tr>\n",
       "      <th>2</th>\n",
       "      <td>2.5</td>\n",
       "      <td>6.0</td>\n",
       "    </tr>\n",
       "    <tr>\n",
       "      <th>3</th>\n",
       "      <td>3.0</td>\n",
       "      <td>7.0</td>\n",
       "    </tr>\n",
       "    <tr>\n",
       "      <th>4</th>\n",
       "      <td>4.0</td>\n",
       "      <td>8.0</td>\n",
       "    </tr>\n",
       "    <tr>\n",
       "      <th>5</th>\n",
       "      <td>2.5</td>\n",
       "      <td>6.5</td>\n",
       "    </tr>\n",
       "  </tbody>\n",
       "</table>\n",
       "</div>"
      ],
      "text/plain": [
       "     A    B\n",
       "0  1.0  5.0\n",
       "1  2.0  6.5\n",
       "2  2.5  6.0\n",
       "3  3.0  7.0\n",
       "4  4.0  8.0\n",
       "5  2.5  6.5"
      ]
     },
     "execution_count": 3,
     "metadata": {},
     "output_type": "execute_result"
    }
   ],
   "source": [
    "import pandas as pd\n",
    "\n",
    "# Data sintetis dengan nilai yang hilang (NaN)\n",
    "data = pd.DataFrame({'A': [1, 2, None, 3, 4, None],\n",
    "                     'B': [5, None, 6, 7, 8, None]})\n",
    "\n",
    "# Mengisi data yang hilang dengan rata-rata kolom\n",
    "data = data.fillna(data.mean())\n",
    "data"
   ]
  },
  {
   "cell_type": "markdown",
   "metadata": {},
   "source": [
    "Dalam contoh ini, kita membuat DataFrame sintetis dengan beberapa nilai yang hilang (None). Kemudian, kita menggunakan fungsi `fillna()` untuk mengisi data yang hilang dengan rata-rata kolom dan mencetak DataFrame yang sudah dibersihkan.\n"
   ]
  },
  {
   "cell_type": "markdown",
   "metadata": {},
   "source": [
    "- Penggunaan metode imputasi yang lebih canggih seperti K-Nearest Neighbors atau Multiple Imputation: Metode imputasi yang lebih canggih bisa memberikan hasil yang lebih akurat dalam mengisi data yang hilang. Kamu bisa menggunakan library seperti `scikit-learn` atau `fancyimpute` untuk mengimplementasikan metode imputasi ini. Sebagai contoh, kamu bisa menggunakan KNNImputer dari scikit-learn untuk mengisi data yang hilang dengan menggunakan metode K-Nearest Neighbors:"
   ]
  },
  {
   "cell_type": "code",
   "execution_count": 4,
   "metadata": {},
   "outputs": [
    {
     "data": {
      "text/html": [
       "<div>\n",
       "<style scoped>\n",
       "    .dataframe tbody tr th:only-of-type {\n",
       "        vertical-align: middle;\n",
       "    }\n",
       "\n",
       "    .dataframe tbody tr th {\n",
       "        vertical-align: top;\n",
       "    }\n",
       "\n",
       "    .dataframe thead th {\n",
       "        text-align: right;\n",
       "    }\n",
       "</style>\n",
       "<table border=\"1\" class=\"dataframe\">\n",
       "  <thead>\n",
       "    <tr style=\"text-align: right;\">\n",
       "      <th></th>\n",
       "      <th>A</th>\n",
       "      <th>B</th>\n",
       "    </tr>\n",
       "  </thead>\n",
       "  <tbody>\n",
       "    <tr>\n",
       "      <th>0</th>\n",
       "      <td>1.0</td>\n",
       "      <td>5.0</td>\n",
       "    </tr>\n",
       "    <tr>\n",
       "      <th>1</th>\n",
       "      <td>2.0</td>\n",
       "      <td>6.0</td>\n",
       "    </tr>\n",
       "    <tr>\n",
       "      <th>2</th>\n",
       "      <td>2.0</td>\n",
       "      <td>6.0</td>\n",
       "    </tr>\n",
       "    <tr>\n",
       "      <th>3</th>\n",
       "      <td>3.0</td>\n",
       "      <td>7.0</td>\n",
       "    </tr>\n",
       "    <tr>\n",
       "      <th>4</th>\n",
       "      <td>4.0</td>\n",
       "      <td>8.0</td>\n",
       "    </tr>\n",
       "    <tr>\n",
       "      <th>5</th>\n",
       "      <td>2.5</td>\n",
       "      <td>6.5</td>\n",
       "    </tr>\n",
       "  </tbody>\n",
       "</table>\n",
       "</div>"
      ],
      "text/plain": [
       "     A    B\n",
       "0  1.0  5.0\n",
       "1  2.0  6.0\n",
       "2  2.0  6.0\n",
       "3  3.0  7.0\n",
       "4  4.0  8.0\n",
       "5  2.5  6.5"
      ]
     },
     "execution_count": 4,
     "metadata": {},
     "output_type": "execute_result"
    }
   ],
   "source": [
    "import pandas as pd\n",
    "from sklearn.impute import KNNImputer\n",
    "\n",
    "# Data sintetis dengan nilai yang hilang (NaN)\n",
    "data = pd.DataFrame({'A': [1, 2, None, 3, 4, None],\n",
    "                     'B': [5, None, 6, 7, 8, None]})\n",
    "\n",
    "# Menggunakan KNNImputer untuk mengisi data yang hilang\n",
    "imputer = KNNImputer(n_neighbors=2)\n",
    "data_filled = imputer.fit_transform(data)\n",
    "\n",
    "# Menyimpan dataset yang telah dibersihkan\n",
    "clean_data = pd.DataFrame(data_filled, columns=data.columns)\n",
    "clean_data"
   ]
  },
  {
   "cell_type": "markdown",
   "metadata": {},
   "source": [
    "Dalam contoh ini, kita membuat DataFrame sintetis dengan beberapa nilai yang hilang (None). Kemudian, kita menggunakan KNNImputer dari scikit-learn untuk mengisi data yang hilang berdasarkan 2 tetangga terdekat (n_neighbors=2). Terakhir, kita mencetak DataFrame yang sudah dibersihkan."
   ]
  },
  {
   "cell_type": "markdown",
   "metadata": {},
   "source": [
    "#### Koreksi kesalahan entri\n",
    "\n",
    "Kesalahan entri adalah nilai data yang salah atau tidak akurat karena kesalahan manusia atau sistem. Kamu bisa menggunakan teknik seperti validasi data, aturan bisnis, atau algoritma deteksi anomali untuk mengidentifikasi dan mengoreksi kesalahan entri. Contoh berikut menunjukkan bagaimana kamu bisa memperbaiki kesalahan entri dengan menggantikan nilai yang tidak valid dengan rata-rata kolom:"
   ]
  },
  {
   "cell_type": "code",
   "execution_count": 5,
   "metadata": {},
   "outputs": [
    {
     "data": {
      "text/html": [
       "<div>\n",
       "<style scoped>\n",
       "    .dataframe tbody tr th:only-of-type {\n",
       "        vertical-align: middle;\n",
       "    }\n",
       "\n",
       "    .dataframe tbody tr th {\n",
       "        vertical-align: top;\n",
       "    }\n",
       "\n",
       "    .dataframe thead th {\n",
       "        text-align: right;\n",
       "    }\n",
       "</style>\n",
       "<table border=\"1\" class=\"dataframe\">\n",
       "  <thead>\n",
       "    <tr style=\"text-align: right;\">\n",
       "      <th></th>\n",
       "      <th>A</th>\n",
       "      <th>B</th>\n",
       "    </tr>\n",
       "  </thead>\n",
       "  <tbody>\n",
       "    <tr>\n",
       "      <th>0</th>\n",
       "      <td>1.0</td>\n",
       "      <td>5.0</td>\n",
       "    </tr>\n",
       "    <tr>\n",
       "      <th>1</th>\n",
       "      <td>2.0</td>\n",
       "      <td>6.5</td>\n",
       "    </tr>\n",
       "    <tr>\n",
       "      <th>2</th>\n",
       "      <td>2.5</td>\n",
       "      <td>6.0</td>\n",
       "    </tr>\n",
       "    <tr>\n",
       "      <th>3</th>\n",
       "      <td>3.0</td>\n",
       "      <td>7.0</td>\n",
       "    </tr>\n",
       "    <tr>\n",
       "      <th>4</th>\n",
       "      <td>4.0</td>\n",
       "      <td>8.0</td>\n",
       "    </tr>\n",
       "    <tr>\n",
       "      <th>5</th>\n",
       "      <td>2.5</td>\n",
       "      <td>6.5</td>\n",
       "    </tr>\n",
       "  </tbody>\n",
       "</table>\n",
       "</div>"
      ],
      "text/plain": [
       "     A    B\n",
       "0  1.0  5.0\n",
       "1  2.0  6.5\n",
       "2  2.5  6.0\n",
       "3  3.0  7.0\n",
       "4  4.0  8.0\n",
       "5  2.5  6.5"
      ]
     },
     "execution_count": 5,
     "metadata": {},
     "output_type": "execute_result"
    }
   ],
   "source": [
    "import pandas as pd\n",
    "\n",
    "# Data sintetis dengan kesalahan entri\n",
    "data = pd.DataFrame({'A': [1, 2, -999, 3, 4, -999],\n",
    "                     'B': [5, -999, 6, 7, 8, -999]})\n",
    "\n",
    "# Menggantikan kesalahan entri (-999) dengan rata-rata kolom\n",
    "data = data.replace(-999, data[data != -999].mean())\n",
    "data"
   ]
  },
  {
   "cell_type": "markdown",
   "metadata": {},
   "source": [
    "Dalam contoh ini, kita membuat DataFrame sintetis dengan beberapa nilai yang salah (-999). Kemudian, kita menggunakan fungsi replace() untuk menggantikan nilai yang salah dengan rata-rata kolom (mengabaikan nilai yang salah saat menghitung rata-rata) dan mencetak DataFrame yang sudah dibersihkan."
   ]
  },
  {
   "cell_type": "markdown",
   "metadata": {},
   "source": [
    "#### Konversi tipe data\n",
    "\n",
    "Dalam beberapa kasus, kamu mungkin perlu mengkonversi tipe data kolom untuk memastikan bahwa model Unsupervised Learning dapat memproses data dengan benar. Misalnya, kamu mungkin perlu mengkonversi kolom teks menjadi kolom numerik atau sebaliknya. Kamu bisa menggunakan fungsi astype() dari Pandas untuk mengkonversi tipe data kolom. Berikut adalah contoh konversi tipe data kolom dari float menjadi integer:\n"
   ]
  },
  {
   "cell_type": "code",
   "execution_count": 7,
   "metadata": {},
   "outputs": [
    {
     "data": {
      "text/html": [
       "<div>\n",
       "<style scoped>\n",
       "    .dataframe tbody tr th:only-of-type {\n",
       "        vertical-align: middle;\n",
       "    }\n",
       "\n",
       "    .dataframe tbody tr th {\n",
       "        vertical-align: top;\n",
       "    }\n",
       "\n",
       "    .dataframe thead th {\n",
       "        text-align: right;\n",
       "    }\n",
       "</style>\n",
       "<table border=\"1\" class=\"dataframe\">\n",
       "  <thead>\n",
       "    <tr style=\"text-align: right;\">\n",
       "      <th></th>\n",
       "      <th>A</th>\n",
       "      <th>B</th>\n",
       "    </tr>\n",
       "  </thead>\n",
       "  <tbody>\n",
       "    <tr>\n",
       "      <th>0</th>\n",
       "      <td>1</td>\n",
       "      <td>6</td>\n",
       "    </tr>\n",
       "    <tr>\n",
       "      <th>1</th>\n",
       "      <td>2</td>\n",
       "      <td>7</td>\n",
       "    </tr>\n",
       "    <tr>\n",
       "      <th>2</th>\n",
       "      <td>3</td>\n",
       "      <td>8</td>\n",
       "    </tr>\n",
       "    <tr>\n",
       "      <th>3</th>\n",
       "      <td>4</td>\n",
       "      <td>9</td>\n",
       "    </tr>\n",
       "    <tr>\n",
       "      <th>4</th>\n",
       "      <td>5</td>\n",
       "      <td>10</td>\n",
       "    </tr>\n",
       "  </tbody>\n",
       "</table>\n",
       "</div>"
      ],
      "text/plain": [
       "   A   B\n",
       "0  1   6\n",
       "1  2   7\n",
       "2  3   8\n",
       "3  4   9\n",
       "4  5  10"
      ]
     },
     "execution_count": 7,
     "metadata": {},
     "output_type": "execute_result"
    }
   ],
   "source": [
    "import pandas as pd\n",
    "\n",
    "# Data sintetis dengan tipe data float\n",
    "data = pd.DataFrame({'A': [1.0, 2.0, 3.0, 4.0, 5.0],\n",
    "                     'B': [6.0, 7.0, 8.0, 9.0, 10.0]})\n",
    "\n",
    "# Mengkonversi tipe data kolom menjadi integer\n",
    "data = data.astype(int)\n",
    "data"
   ]
  },
  {
   "cell_type": "markdown",
   "metadata": {},
   "source": [
    "Dalam contoh ini, kita membuat DataFrame sintetis dengan tipe data float. Kemudian, kita menggunakan fungsi astype() untuk mengkonversi tipe data kolom menjadi integer dan mencetak DataFrame yang sudah diubah."
   ]
  },
  {
   "cell_type": "markdown",
   "metadata": {},
   "source": [
    "Penanganan data kategorikal: Data kategorikal adalah data yang memiliki nilai terbatas yang mewakili kategori atau label. Untuk memproses data kategorikal dalam model Unsupervised Learning, kamu perlu mengubah data kategorikal menjadi bentuk numerik. Ada beberapa teknik yang bisa kamu gunakan, seperti:\n",
    "\n",
    "- One-Hot Encoding: One-hot encoding adalah teknik yang digunakan untuk mengkonversi data kategorikal menjadi vektor biner dengan panjang yang sama dengan jumlah kategori yang unik. Kamu bisa menggunakan pd.get_dummies() dari Pandas untuk mengimplementasikan one-hot encoding. Berikut adalah contoh penggunaan one-hot encoding untuk mengkonversi data kategorikal:"
   ]
  },
  {
   "cell_type": "code",
   "execution_count": 8,
   "metadata": {},
   "outputs": [
    {
     "data": {
      "text/html": [
       "<div>\n",
       "<style scoped>\n",
       "    .dataframe tbody tr th:only-of-type {\n",
       "        vertical-align: middle;\n",
       "    }\n",
       "\n",
       "    .dataframe tbody tr th {\n",
       "        vertical-align: top;\n",
       "    }\n",
       "\n",
       "    .dataframe thead th {\n",
       "        text-align: right;\n",
       "    }\n",
       "</style>\n",
       "<table border=\"1\" class=\"dataframe\">\n",
       "  <thead>\n",
       "    <tr style=\"text-align: right;\">\n",
       "      <th></th>\n",
       "      <th>B</th>\n",
       "      <th>A_blue</th>\n",
       "      <th>A_green</th>\n",
       "      <th>A_red</th>\n",
       "    </tr>\n",
       "  </thead>\n",
       "  <tbody>\n",
       "    <tr>\n",
       "      <th>0</th>\n",
       "      <td>1</td>\n",
       "      <td>False</td>\n",
       "      <td>False</td>\n",
       "      <td>True</td>\n",
       "    </tr>\n",
       "    <tr>\n",
       "      <th>1</th>\n",
       "      <td>2</td>\n",
       "      <td>False</td>\n",
       "      <td>True</td>\n",
       "      <td>False</td>\n",
       "    </tr>\n",
       "    <tr>\n",
       "      <th>2</th>\n",
       "      <td>3</td>\n",
       "      <td>True</td>\n",
       "      <td>False</td>\n",
       "      <td>False</td>\n",
       "    </tr>\n",
       "    <tr>\n",
       "      <th>3</th>\n",
       "      <td>4</td>\n",
       "      <td>False</td>\n",
       "      <td>False</td>\n",
       "      <td>True</td>\n",
       "    </tr>\n",
       "    <tr>\n",
       "      <th>4</th>\n",
       "      <td>5</td>\n",
       "      <td>False</td>\n",
       "      <td>True</td>\n",
       "      <td>False</td>\n",
       "    </tr>\n",
       "  </tbody>\n",
       "</table>\n",
       "</div>"
      ],
      "text/plain": [
       "   B  A_blue  A_green  A_red\n",
       "0  1   False    False   True\n",
       "1  2   False     True  False\n",
       "2  3    True    False  False\n",
       "3  4   False    False   True\n",
       "4  5   False     True  False"
      ]
     },
     "execution_count": 8,
     "metadata": {},
     "output_type": "execute_result"
    }
   ],
   "source": [
    "import pandas as pd\n",
    "\n",
    "# Data sintetis dengan kolom kategorikal\n",
    "data = pd.DataFrame({'A': ['red', 'green', 'blue', 'red', 'green'],\n",
    "                     'B': [1, 2, 3, 4, 5]})\n",
    "\n",
    "# Menggunakan one-hot encoding untuk mengkonversi kolom kategorikal 'A'\n",
    "encoded_data = pd.get_dummies(data, columns=['A'])\n",
    "encoded_data"
   ]
  },
  {
   "cell_type": "markdown",
   "metadata": {},
   "source": [
    "Dalam contoh ini, kita membuat DataFrame sintetis dengan kolom kategorikal 'A' yang berisi warna. Kemudian, kita menggunakan pd.get_dummies() untuk mengkonversi kolom kategorikal menjadi kolom biner yang mewakili setiap kategori unik dan mencetak DataFrame yang sudah diubah."
   ]
  },
  {
   "cell_type": "markdown",
   "metadata": {},
   "source": [
    "- Label Encoding: Label encoding adalah teknik yang menggantikan setiap kategori dengan nilai numerik unik. Kamu bisa menggunakan LabelEncoder dari scikit-learn untuk mengimplementasikan label encoding. Berikut adalah contoh penggunaan label encoding untuk mengkonversi data kategorikal:"
   ]
  },
  {
   "cell_type": "code",
   "execution_count": 9,
   "metadata": {},
   "outputs": [
    {
     "data": {
      "text/html": [
       "<div>\n",
       "<style scoped>\n",
       "    .dataframe tbody tr th:only-of-type {\n",
       "        vertical-align: middle;\n",
       "    }\n",
       "\n",
       "    .dataframe tbody tr th {\n",
       "        vertical-align: top;\n",
       "    }\n",
       "\n",
       "    .dataframe thead th {\n",
       "        text-align: right;\n",
       "    }\n",
       "</style>\n",
       "<table border=\"1\" class=\"dataframe\">\n",
       "  <thead>\n",
       "    <tr style=\"text-align: right;\">\n",
       "      <th></th>\n",
       "      <th>A</th>\n",
       "      <th>B</th>\n",
       "    </tr>\n",
       "  </thead>\n",
       "  <tbody>\n",
       "    <tr>\n",
       "      <th>0</th>\n",
       "      <td>2</td>\n",
       "      <td>1</td>\n",
       "    </tr>\n",
       "    <tr>\n",
       "      <th>1</th>\n",
       "      <td>1</td>\n",
       "      <td>2</td>\n",
       "    </tr>\n",
       "    <tr>\n",
       "      <th>2</th>\n",
       "      <td>0</td>\n",
       "      <td>3</td>\n",
       "    </tr>\n",
       "    <tr>\n",
       "      <th>3</th>\n",
       "      <td>2</td>\n",
       "      <td>4</td>\n",
       "    </tr>\n",
       "    <tr>\n",
       "      <th>4</th>\n",
       "      <td>1</td>\n",
       "      <td>5</td>\n",
       "    </tr>\n",
       "  </tbody>\n",
       "</table>\n",
       "</div>"
      ],
      "text/plain": [
       "   A  B\n",
       "0  2  1\n",
       "1  1  2\n",
       "2  0  3\n",
       "3  2  4\n",
       "4  1  5"
      ]
     },
     "execution_count": 9,
     "metadata": {},
     "output_type": "execute_result"
    }
   ],
   "source": [
    "import pandas as pd\n",
    "from sklearn.preprocessing import LabelEncoder\n",
    "\n",
    "# Data sintetis dengan kolom kategorikal\n",
    "data = pd.DataFrame({'A': ['red', 'green', 'blue', 'red', 'green'],\n",
    "                     'B': [1, 2, 3, 4, 5]})\n",
    "\n",
    "# Menggunakan Label encoding untuk mengkonversi kolom kategorikal 'A'\n",
    "encoder = LabelEncoder()\n",
    "data['A'] = encoder.fit_transform(data['A'])\n",
    "data"
   ]
  },
  {
   "cell_type": "markdown",
   "metadata": {},
   "source": [
    "Dalam contoh ini, kita membuat DataFrame sintetis dengan kolom kategorikal 'A' yang berisi warna. Kemudian, kita menggunakan `LabelEncoder` untuk mengkonversi kolom kategorikal menjadi nilai numerik yang mewakili setiap kategori unik dan mencetak DataFrame yang sudah diubah.\n",
    "\n",
    "Dalam rangkuman, data cleaning adalah proses penting dalam persiapan data untuk Unsupervised Learning. Langkah-langkah yang dijelaskan di atas, seperti penghapusan data duplikat, penanganan data yang hilang, koreksi kesalahan entri, konversi tipe data, dan penanganan data kategorikal, membantu menghasilkan dataset yang berkualitas tinggi yang akan meningkatkan kinerja model Unsupervised Learning."
   ]
  },
  {
   "cell_type": "markdown",
   "metadata": {},
   "source": [
    "### Data Transformation\n",
    "\n",
    "Data transformation adalah proses mengubah bentuk atau struktur data agar sesuai dengan kebutuhan model Unsupervised Learning. Transformasi data sering diperlukan karena model mungkin bekerja lebih baik dengan beberapa fitur yang berbeda atau dengan representasi yang lebih sederhana dari data asli. Dalam subbab ini, kita akan membahas beberapa teknik transformasi data yang umum digunakan dalam Unsupervised Learning, seperti agregasi fitur, reduksi dimensi, dan encoding fitur."
   ]
  },
  {
   "cell_type": "markdown",
   "metadata": {},
   "source": [
    "#### Agregasi Fitur\n",
    "\n",
    "Agregasi fitur adalah proses menggabungkan beberapa fitur menjadi satu fitur baru yang mewakili informasi yang ada dalam fitur-fitur tersebut. Agregasi fitur dapat membantu mengurangi dimensi dataset dan mengurangi kompleksitas model. Selain itu, agregasi fitur dapat meningkatkan interpretasi model dan mengurangi risiko overfitting. Berikut adalah contoh mengagregasi fitur dengan menggunakan Python dan Pandas:\n"
   ]
  },
  {
   "cell_type": "code",
   "execution_count": 1,
   "metadata": {},
   "outputs": [
    {
     "data": {
      "text/html": [
       "<div>\n",
       "<style scoped>\n",
       "    .dataframe tbody tr th:only-of-type {\n",
       "        vertical-align: middle;\n",
       "    }\n",
       "\n",
       "    .dataframe tbody tr th {\n",
       "        vertical-align: top;\n",
       "    }\n",
       "\n",
       "    .dataframe thead th {\n",
       "        text-align: right;\n",
       "    }\n",
       "</style>\n",
       "<table border=\"1\" class=\"dataframe\">\n",
       "  <thead>\n",
       "    <tr style=\"text-align: right;\">\n",
       "      <th></th>\n",
       "      <th>C</th>\n",
       "      <th>D</th>\n",
       "    </tr>\n",
       "  </thead>\n",
       "  <tbody>\n",
       "    <tr>\n",
       "      <th>0</th>\n",
       "      <td>11</td>\n",
       "      <td>3.5</td>\n",
       "    </tr>\n",
       "    <tr>\n",
       "      <th>1</th>\n",
       "      <td>12</td>\n",
       "      <td>4.5</td>\n",
       "    </tr>\n",
       "    <tr>\n",
       "      <th>2</th>\n",
       "      <td>13</td>\n",
       "      <td>5.5</td>\n",
       "    </tr>\n",
       "    <tr>\n",
       "      <th>3</th>\n",
       "      <td>14</td>\n",
       "      <td>6.5</td>\n",
       "    </tr>\n",
       "    <tr>\n",
       "      <th>4</th>\n",
       "      <td>15</td>\n",
       "      <td>7.5</td>\n",
       "    </tr>\n",
       "  </tbody>\n",
       "</table>\n",
       "</div>"
      ],
      "text/plain": [
       "    C    D\n",
       "0  11  3.5\n",
       "1  12  4.5\n",
       "2  13  5.5\n",
       "3  14  6.5\n",
       "4  15  7.5"
      ]
     },
     "execution_count": 1,
     "metadata": {},
     "output_type": "execute_result"
    }
   ],
   "source": [
    "import pandas as pd\n",
    "\n",
    "# Data sintetis\n",
    "data = pd.DataFrame({'A': [1, 2, 3, 4, 5],\n",
    "                     'B': [6, 7, 8, 9, 10],\n",
    "                     'C': [11, 12, 13, 14, 15]})\n",
    "\n",
    "# Mengagregasi fitur 'A' dan 'B' dengan mengambil rata-rata\n",
    "data['D'] = (data['A'] + data['B']) / 2\n",
    "\n",
    "# Menghapus fitur 'A' dan 'B' yang lama\n",
    "data = data.drop(columns=['A', 'B'])\n",
    "data"
   ]
  },
  {
   "cell_type": "markdown",
   "metadata": {},
   "source": [
    "Dalam contoh ini, kita membuat DataFrame sintetis dengan tiga fitur ('A', 'B', dan 'C'). Kemudian, kita mengagregasi fitur 'A' dan 'B' dengan mengambil rata-rata dari kedua fitur tersebut dan menyimpan hasilnya dalam fitur baru 'D'. Terakhir, kita menghapus fitur 'A' dan 'B' yang lama dan mencetak DataFrame yang sudah diubah."
   ]
  },
  {
   "cell_type": "markdown",
   "metadata": {},
   "source": [
    "#### Reduksi Dimensi\n",
    "\n",
    "Reduksi dimensi adalah proses mengurangi jumlah fitur dalam dataset dengan mempertahankan informasi penting. Reduksi dimensi dapat membantu mengurangi kompleksitas model, meningkatkan interpretasi, dan mengurangi risiko overfitting. Ada beberapa teknik reduksi dimensi yang umum digunakan dalam Unsupervised Learning, seperti Principal Component Analysis (PCA), t-SNE, dan UMAP. Berikut adalah contoh mengurangi dimensi dataset dengan menggunakan PCA dari scikit-learn:"
   ]
  },
  {
   "cell_type": "code",
   "execution_count": 2,
   "metadata": {},
   "outputs": [
    {
     "data": {
      "text/html": [
       "<div>\n",
       "<style scoped>\n",
       "    .dataframe tbody tr th:only-of-type {\n",
       "        vertical-align: middle;\n",
       "    }\n",
       "\n",
       "    .dataframe tbody tr th {\n",
       "        vertical-align: top;\n",
       "    }\n",
       "\n",
       "    .dataframe thead th {\n",
       "        text-align: right;\n",
       "    }\n",
       "</style>\n",
       "<table border=\"1\" class=\"dataframe\">\n",
       "  <thead>\n",
       "    <tr style=\"text-align: right;\">\n",
       "      <th></th>\n",
       "      <th>PC1</th>\n",
       "      <th>PC2</th>\n",
       "    </tr>\n",
       "  </thead>\n",
       "  <tbody>\n",
       "    <tr>\n",
       "      <th>0</th>\n",
       "      <td>3.464102</td>\n",
       "      <td>0.0</td>\n",
       "    </tr>\n",
       "    <tr>\n",
       "      <th>1</th>\n",
       "      <td>1.732051</td>\n",
       "      <td>0.0</td>\n",
       "    </tr>\n",
       "    <tr>\n",
       "      <th>2</th>\n",
       "      <td>-0.000000</td>\n",
       "      <td>0.0</td>\n",
       "    </tr>\n",
       "    <tr>\n",
       "      <th>3</th>\n",
       "      <td>-1.732051</td>\n",
       "      <td>0.0</td>\n",
       "    </tr>\n",
       "    <tr>\n",
       "      <th>4</th>\n",
       "      <td>-3.464102</td>\n",
       "      <td>0.0</td>\n",
       "    </tr>\n",
       "  </tbody>\n",
       "</table>\n",
       "</div>"
      ],
      "text/plain": [
       "        PC1  PC2\n",
       "0  3.464102  0.0\n",
       "1  1.732051  0.0\n",
       "2 -0.000000  0.0\n",
       "3 -1.732051  0.0\n",
       "4 -3.464102  0.0"
      ]
     },
     "execution_count": 2,
     "metadata": {},
     "output_type": "execute_result"
    }
   ],
   "source": [
    "import pandas as pd\n",
    "from sklearn.decomposition import PCA\n",
    "\n",
    "# Data sintetis\n",
    "data = pd.DataFrame({'A': [1, 2, 3, 4, 5],\n",
    "                     'B': [6, 7, 8, 9, 10],\n",
    "                     'C': [11, 12, 13, 14, 15]})\n",
    "\n",
    "# Menggunakan PCA untuk mengurangi dimensi dataset menjadi 2 fitur\n",
    "pca = PCA(n_components=2)\n",
    "transformed_data = pca.fit_transform(data)\n",
    "\n",
    "# menyimpan dataset yang telah direduksi\n",
    "reduced_data = pd.DataFrame(transformed_data, columns=['PC1', 'PC2'])\n",
    "reduced_data"
   ]
  },
  {
   "cell_type": "markdown",
   "metadata": {},
   "source": [
    "Dalam contoh ini, kita membuat DataFrame sintetis dengan tiga fitur ('A', 'B', dan 'C'). Kemudian, kita menggunakan PCA untuk mengurangi dimensi dataset menjadi dua fitur, yang disimpan dalam kolom 'PC1' dan 'PC2'. Terakhir, kita mencetak DataFrame yang sudah direduksi."
   ]
  },
  {
   "cell_type": "markdown",
   "metadata": {},
   "source": [
    "#### Encoding Fitur\n",
    "\n",
    "Encoding fitur adalah proses mengubah representasi fitur sehingga lebih sesuai untuk model Unsupervised Learning. Salah satu contoh encoding fitur adalah konversi data kategorikal menjadi data numerik, seperti yang telah dijelaskan di subbab 2.2. Encoding fitur lain yang umum digunakan dalam Unsupervised Learning adalah konversi teks menjadi vektor numerik dengan menggunakan teknik seperti Bag of Words, TF-IDF, atau Word2Vec. Berikut adalah contoh mengkonversi teks menjadi vektor numerik dengan menggunakan TF-IDF dari scikit-learn:"
   ]
  },
  {
   "cell_type": "code",
   "execution_count": 3,
   "metadata": {},
   "outputs": [
    {
     "data": {
      "text/html": [
       "<div>\n",
       "<style scoped>\n",
       "    .dataframe tbody tr th:only-of-type {\n",
       "        vertical-align: middle;\n",
       "    }\n",
       "\n",
       "    .dataframe tbody tr th {\n",
       "        vertical-align: top;\n",
       "    }\n",
       "\n",
       "    .dataframe thead th {\n",
       "        text-align: right;\n",
       "    }\n",
       "</style>\n",
       "<table border=\"1\" class=\"dataframe\">\n",
       "  <thead>\n",
       "    <tr style=\"text-align: right;\">\n",
       "      <th></th>\n",
       "      <th>another</th>\n",
       "      <th>example</th>\n",
       "      <th>for</th>\n",
       "      <th>illustration</th>\n",
       "      <th>is</th>\n",
       "      <th>sample</th>\n",
       "      <th>sentence</th>\n",
       "      <th>text</th>\n",
       "      <th>third</th>\n",
       "      <th>this</th>\n",
       "    </tr>\n",
       "  </thead>\n",
       "  <tbody>\n",
       "    <tr>\n",
       "      <th>0</th>\n",
       "      <td>0.000000</td>\n",
       "      <td>0.000000</td>\n",
       "      <td>0.0</td>\n",
       "      <td>0.0</td>\n",
       "      <td>0.528635</td>\n",
       "      <td>0.528635</td>\n",
       "      <td>0.40204</td>\n",
       "      <td>0.0</td>\n",
       "      <td>0.0</td>\n",
       "      <td>0.528635</td>\n",
       "    </tr>\n",
       "    <tr>\n",
       "      <th>1</th>\n",
       "      <td>0.622766</td>\n",
       "      <td>0.622766</td>\n",
       "      <td>0.0</td>\n",
       "      <td>0.0</td>\n",
       "      <td>0.000000</td>\n",
       "      <td>0.000000</td>\n",
       "      <td>0.47363</td>\n",
       "      <td>0.0</td>\n",
       "      <td>0.0</td>\n",
       "      <td>0.000000</td>\n",
       "    </tr>\n",
       "    <tr>\n",
       "      <th>2</th>\n",
       "      <td>0.000000</td>\n",
       "      <td>0.000000</td>\n",
       "      <td>0.5</td>\n",
       "      <td>0.5</td>\n",
       "      <td>0.000000</td>\n",
       "      <td>0.000000</td>\n",
       "      <td>0.00000</td>\n",
       "      <td>0.5</td>\n",
       "      <td>0.5</td>\n",
       "      <td>0.000000</td>\n",
       "    </tr>\n",
       "  </tbody>\n",
       "</table>\n",
       "</div>"
      ],
      "text/plain": [
       "    another   example  for  illustration        is    sample  sentence  text  \\\n",
       "0  0.000000  0.000000  0.0           0.0  0.528635  0.528635   0.40204   0.0   \n",
       "1  0.622766  0.622766  0.0           0.0  0.000000  0.000000   0.47363   0.0   \n",
       "2  0.000000  0.000000  0.5           0.5  0.000000  0.000000   0.00000   0.5   \n",
       "\n",
       "   third      this  \n",
       "0    0.0  0.528635  \n",
       "1    0.0  0.000000  \n",
       "2    0.5  0.000000  "
      ]
     },
     "execution_count": 3,
     "metadata": {},
     "output_type": "execute_result"
    }
   ],
   "source": [
    "import pandas as pd\n",
    "from sklearn.feature_extraction.text import TfidfVectorizer\n",
    "\n",
    "# Data sintetis sebagai teks\n",
    "data = pd.DataFrame({'A': ['this is a sample sentence',\n",
    "                           'another example sentence',\n",
    "                           'a third text for illustration']})\n",
    "\n",
    "# Using TF-IDF to convert text into numerical vectors\n",
    "vectorizer = TfidfVectorizer()\n",
    "encoded_data = vectorizer.fit_transform(data['A'])\n",
    "\n",
    "# Storing the encoded dataset\n",
    "encoded_df = pd.DataFrame(encoded_data.toarray(),\n",
    "                          columns=vectorizer.get_feature_names_out())\n",
    "encoded_df"
   ]
  },
  {
   "cell_type": "markdown",
   "metadata": {},
   "source": [
    "Dalam contoh ini, kita membuat DataFrame sintetis dengan satu kolom teks 'A'. Kemudian, kita menggunakan TfidfVectorizer untuk mengkonversi teks dalam kolom 'A' menjadi vektor numerik. Hasilnya disimpan dalam DataFrame baru, yang mencakup kolom untuk setiap kata yang unik dalam dataset dan nilai TF-IDF yang sesuai. Terakhir, kita mencetak DataFrame yang sudah di-encode.\n",
    "\n",
    " Dalam rangkuman, transformasi data adalah langkah penting dalam persiapan data untuk Unsupervised Learning. Teknik transformasi data yang dijelaskan di atas, seperti agregasi fitur, reduksi dimensi, dan encoding fitur, membantu menghasilkan dataset yang lebih sesuai dengan kebutuhan model Unsupervised Learning. Dengan menggunakan contoh kode Python yang diberikan, kamu dapat menerapkan teknik-teknik ini pada dataset kamu sendiri untuk memastikan bahwa data yang digunakan dalam proses pembelajaran mesin telah ditransformasi sesuai kebutuhan."
   ]
  },
  {
   "cell_type": "markdown",
   "metadata": {},
   "source": [
    "### Data Scaling and Normalization\n",
    "\n",
    "Data scaling dan normalization adalah proses penyesuaian rentang nilai fitur data agar sesuai dengan skala yang ditentukan. Dalam banyak algoritma Machine Learning, terutama yang berbasis jarak seperti K-Means, Affinity Propagation, MeanShift, dan Spectral Clustering, penting untuk memiliki fitur pada skala yang sama sehingga satu fitur tidak mendominasi yang lain."
   ]
  },
  {
   "cell_type": "markdown",
   "metadata": {},
   "source": [
    "#### Data Scaling\n",
    "\n",
    "Data scaling adalah teknik yang digunakan untuk mengubah rentang nilai fitur sehingga semua fitur memiliki skala yang sama. Salah satu metode scaling yang populer adalah StandardScaler dari library scikit-learn, yang mengubah data sedemikian rupa sehingga memiliki rata-rata nol dan standar deviasi satu. Berikut adalah contoh penggunaan StandardScaler pada data sintetis:"
   ]
  },
  {
   "cell_type": "code",
   "execution_count": 5,
   "metadata": {},
   "outputs": [
    {
     "data": {
      "text/html": [
       "<div>\n",
       "<style scoped>\n",
       "    .dataframe tbody tr th:only-of-type {\n",
       "        vertical-align: middle;\n",
       "    }\n",
       "\n",
       "    .dataframe tbody tr th {\n",
       "        vertical-align: top;\n",
       "    }\n",
       "\n",
       "    .dataframe thead th {\n",
       "        text-align: right;\n",
       "    }\n",
       "</style>\n",
       "<table border=\"1\" class=\"dataframe\">\n",
       "  <thead>\n",
       "    <tr style=\"text-align: right;\">\n",
       "      <th></th>\n",
       "      <th>A_scaled</th>\n",
       "      <th>B_scaled</th>\n",
       "    </tr>\n",
       "  </thead>\n",
       "  <tbody>\n",
       "    <tr>\n",
       "      <th>0</th>\n",
       "      <td>-1.414214</td>\n",
       "      <td>-1.414214</td>\n",
       "    </tr>\n",
       "    <tr>\n",
       "      <th>1</th>\n",
       "      <td>-0.707107</td>\n",
       "      <td>-0.707107</td>\n",
       "    </tr>\n",
       "    <tr>\n",
       "      <th>2</th>\n",
       "      <td>0.000000</td>\n",
       "      <td>0.000000</td>\n",
       "    </tr>\n",
       "    <tr>\n",
       "      <th>3</th>\n",
       "      <td>0.707107</td>\n",
       "      <td>0.707107</td>\n",
       "    </tr>\n",
       "    <tr>\n",
       "      <th>4</th>\n",
       "      <td>1.414214</td>\n",
       "      <td>1.414214</td>\n",
       "    </tr>\n",
       "  </tbody>\n",
       "</table>\n",
       "</div>"
      ],
      "text/plain": [
       "   A_scaled  B_scaled\n",
       "0 -1.414214 -1.414214\n",
       "1 -0.707107 -0.707107\n",
       "2  0.000000  0.000000\n",
       "3  0.707107  0.707107\n",
       "4  1.414214  1.414214"
      ]
     },
     "execution_count": 5,
     "metadata": {},
     "output_type": "execute_result"
    }
   ],
   "source": [
    "import pandas as pd\n",
    "from sklearn.preprocessing import StandardScaler\n",
    "\n",
    "# Data sintetis\n",
    "data = pd.DataFrame({'A': [1, 2, 3, 4, 5],\n",
    "                     'B': [100, 200, 300, 400, 500]})\n",
    "\n",
    "# Menggunakan StandardScaler untuk menskalakan data\n",
    "scaler = StandardScaler()\n",
    "scaled_data = scaler.fit_transform(data)\n",
    "\n",
    "# Menyimpan data yang telah diskalakan\n",
    "scaled_df = pd.DataFrame(scaled_data, columns=['A_scaled', 'B_scaled'])\n",
    "scaled_df"
   ]
  },
  {
   "cell_type": "markdown",
   "metadata": {},
   "source": [
    "Dalam contoh ini, kita membuat DataFrame sintetis dengan dua fitur ('A' dan 'B') yang memiliki skala yang sangat berbeda. Kemudian, kita menggunakan StandardScaler untuk menskalakan data sehingga semua fitur memiliki rata-rata nol dan standar deviasi satu."
   ]
  },
  {
   "cell_type": "markdown",
   "metadata": {},
   "source": [
    "#### Data Normalization\n",
    "\n",
    "Data normalization adalah teknik yang digunakan untuk mengubah rentang nilai fitur sehingga semua fitur memiliki rentang antara 0 dan 1. Metode normalization yang umum digunakan adalah MinMaxScaler dari library scikit-learn. Berikut adalah contoh penggunaan MinMaxScaler pada data sintetis:\n"
   ]
  },
  {
   "cell_type": "code",
   "execution_count": 6,
   "metadata": {},
   "outputs": [
    {
     "data": {
      "text/html": [
       "<div>\n",
       "<style scoped>\n",
       "    .dataframe tbody tr th:only-of-type {\n",
       "        vertical-align: middle;\n",
       "    }\n",
       "\n",
       "    .dataframe tbody tr th {\n",
       "        vertical-align: top;\n",
       "    }\n",
       "\n",
       "    .dataframe thead th {\n",
       "        text-align: right;\n",
       "    }\n",
       "</style>\n",
       "<table border=\"1\" class=\"dataframe\">\n",
       "  <thead>\n",
       "    <tr style=\"text-align: right;\">\n",
       "      <th></th>\n",
       "      <th>A_normalized</th>\n",
       "      <th>B_normalized</th>\n",
       "    </tr>\n",
       "  </thead>\n",
       "  <tbody>\n",
       "    <tr>\n",
       "      <th>0</th>\n",
       "      <td>0.00</td>\n",
       "      <td>0.00</td>\n",
       "    </tr>\n",
       "    <tr>\n",
       "      <th>1</th>\n",
       "      <td>0.25</td>\n",
       "      <td>0.25</td>\n",
       "    </tr>\n",
       "    <tr>\n",
       "      <th>2</th>\n",
       "      <td>0.50</td>\n",
       "      <td>0.50</td>\n",
       "    </tr>\n",
       "    <tr>\n",
       "      <th>3</th>\n",
       "      <td>0.75</td>\n",
       "      <td>0.75</td>\n",
       "    </tr>\n",
       "    <tr>\n",
       "      <th>4</th>\n",
       "      <td>1.00</td>\n",
       "      <td>1.00</td>\n",
       "    </tr>\n",
       "  </tbody>\n",
       "</table>\n",
       "</div>"
      ],
      "text/plain": [
       "   A_normalized  B_normalized\n",
       "0          0.00          0.00\n",
       "1          0.25          0.25\n",
       "2          0.50          0.50\n",
       "3          0.75          0.75\n",
       "4          1.00          1.00"
      ]
     },
     "execution_count": 6,
     "metadata": {},
     "output_type": "execute_result"
    }
   ],
   "source": [
    "import pandas as pd\n",
    "from sklearn.preprocessing import MinMaxScaler\n",
    "\n",
    "# Data sintetis\n",
    "data = pd.DataFrame({'A': [1, 2, 3, 4, 5],\n",
    "                     'B': [100, 200, 300, 400, 500]})\n",
    "\n",
    "# Menggunakan MinMaxScaler untuk menormalisasi data\n",
    "scaler = MinMaxScaler()\n",
    "normalized_data = scaler.fit_transform(data)\n",
    "\n",
    "# Menyimpan data yang telah dinormalisasi\n",
    "normalized_df = pd.DataFrame(normalized_data, columns=['A_normalized', 'B_normalized'])\n",
    "normalized_df"
   ]
  },
  {
   "cell_type": "markdown",
   "metadata": {},
   "source": [
    "Dalam contoh ini, kita membuat DataFrame sintetis dengan dua fitur ('A' dan 'B') yang memiliki skala yang sangat berbeda. Kemudian, kita menggunakan MinMaxScaler untuk menormalisasi data sehingga semua fitur memiliki rentang antara 0 dan 1.\n",
    "\n",
    "Selain StandardScaler dan MinMaxScaler, ada metode scaling dan normalization lainnya seperti RobustScaler (menggunakan median dan kuartil, kurang sensitif terhadap pencilan) dan QuantileTransformer (mengubah distribusi data ke distribusi normal atau uniform).\n",
    "\n",
    "Secara keseluruhan, data scaling dan normalization merupakan langkah penting dalam persiapan data untuk Unsupervised Learning. Penting untuk mencatat bahwa scaler atau normalizer yang sama yang digunakan pada data pelatihan harus digunakan pada data tes atau data baru nantinya untuk memastikan konsistensi dalam skala data. Metode scaling atau normalization yang digunakan dapat bervariasi tergantung pada karakteristik data dan algoritma Machine Learning yang digunakan.\n",
    "\n",
    "Untuk contoh, jika data memiliki banyak pencilan dan kita menggunakan algoritma berbasis jarak, mungkin lebih baik menggunakan RobustScaler. Jika data tidak mengikuti distribusi normal dan kita ingin mengubah distribusinya, QuantileTransformer bisa menjadi pilihan yang baik."
   ]
  },
  {
   "cell_type": "code",
   "execution_count": 7,
   "metadata": {},
   "outputs": [
    {
     "data": {
      "text/html": [
       "<div>\n",
       "<style scoped>\n",
       "    .dataframe tbody tr th:only-of-type {\n",
       "        vertical-align: middle;\n",
       "    }\n",
       "\n",
       "    .dataframe tbody tr th {\n",
       "        vertical-align: top;\n",
       "    }\n",
       "\n",
       "    .dataframe thead th {\n",
       "        text-align: right;\n",
       "    }\n",
       "</style>\n",
       "<table border=\"1\" class=\"dataframe\">\n",
       "  <thead>\n",
       "    <tr style=\"text-align: right;\">\n",
       "      <th></th>\n",
       "      <th>A_robust_scaled</th>\n",
       "      <th>B_robust_scaled</th>\n",
       "    </tr>\n",
       "  </thead>\n",
       "  <tbody>\n",
       "    <tr>\n",
       "      <th>0</th>\n",
       "      <td>-1.0</td>\n",
       "      <td>-1.0</td>\n",
       "    </tr>\n",
       "    <tr>\n",
       "      <th>1</th>\n",
       "      <td>-0.6</td>\n",
       "      <td>-0.6</td>\n",
       "    </tr>\n",
       "    <tr>\n",
       "      <th>2</th>\n",
       "      <td>-0.2</td>\n",
       "      <td>-0.2</td>\n",
       "    </tr>\n",
       "    <tr>\n",
       "      <th>3</th>\n",
       "      <td>0.2</td>\n",
       "      <td>0.2</td>\n",
       "    </tr>\n",
       "    <tr>\n",
       "      <th>4</th>\n",
       "      <td>0.6</td>\n",
       "      <td>0.6</td>\n",
       "    </tr>\n",
       "    <tr>\n",
       "      <th>5</th>\n",
       "      <td>38.6</td>\n",
       "      <td>2.6</td>\n",
       "    </tr>\n",
       "  </tbody>\n",
       "</table>\n",
       "</div>"
      ],
      "text/plain": [
       "   A_robust_scaled  B_robust_scaled\n",
       "0             -1.0             -1.0\n",
       "1             -0.6             -0.6\n",
       "2             -0.2             -0.2\n",
       "3              0.2              0.2\n",
       "4              0.6              0.6\n",
       "5             38.6              2.6"
      ]
     },
     "metadata": {},
     "output_type": "display_data"
    },
    {
     "name": "stderr",
     "output_type": "stream",
     "text": [
      "c:\\Development_App\\py38\\lib\\site-packages\\sklearn\\preprocessing\\_data.py:2627: UserWarning: n_quantiles (1000) is greater than the total number of samples (6). n_quantiles is set to n_samples.\n",
      "  warnings.warn(\n"
     ]
    },
    {
     "data": {
      "text/html": [
       "<div>\n",
       "<style scoped>\n",
       "    .dataframe tbody tr th:only-of-type {\n",
       "        vertical-align: middle;\n",
       "    }\n",
       "\n",
       "    .dataframe tbody tr th {\n",
       "        vertical-align: top;\n",
       "    }\n",
       "\n",
       "    .dataframe thead th {\n",
       "        text-align: right;\n",
       "    }\n",
       "</style>\n",
       "<table border=\"1\" class=\"dataframe\">\n",
       "  <thead>\n",
       "    <tr style=\"text-align: right;\">\n",
       "      <th></th>\n",
       "      <th>A_quantile_transformed</th>\n",
       "      <th>B_quantile_transformed</th>\n",
       "    </tr>\n",
       "  </thead>\n",
       "  <tbody>\n",
       "    <tr>\n",
       "      <th>0</th>\n",
       "      <td>-5.199338</td>\n",
       "      <td>-5.199338</td>\n",
       "    </tr>\n",
       "    <tr>\n",
       "      <th>1</th>\n",
       "      <td>-0.841621</td>\n",
       "      <td>-0.841621</td>\n",
       "    </tr>\n",
       "    <tr>\n",
       "      <th>2</th>\n",
       "      <td>-0.253347</td>\n",
       "      <td>-0.253347</td>\n",
       "    </tr>\n",
       "    <tr>\n",
       "      <th>3</th>\n",
       "      <td>0.253347</td>\n",
       "      <td>0.253347</td>\n",
       "    </tr>\n",
       "    <tr>\n",
       "      <th>4</th>\n",
       "      <td>0.841621</td>\n",
       "      <td>0.841621</td>\n",
       "    </tr>\n",
       "    <tr>\n",
       "      <th>5</th>\n",
       "      <td>5.199338</td>\n",
       "      <td>5.199338</td>\n",
       "    </tr>\n",
       "  </tbody>\n",
       "</table>\n",
       "</div>"
      ],
      "text/plain": [
       "   A_quantile_transformed  B_quantile_transformed\n",
       "0               -5.199338               -5.199338\n",
       "1               -0.841621               -0.841621\n",
       "2               -0.253347               -0.253347\n",
       "3                0.253347                0.253347\n",
       "4                0.841621                0.841621\n",
       "5                5.199338                5.199338"
      ]
     },
     "metadata": {},
     "output_type": "display_data"
    }
   ],
   "source": [
    "import pandas as pd\n",
    "from sklearn.preprocessing import RobustScaler, QuantileTransformer\n",
    "\n",
    "# Data sintetis\n",
    "data = pd.DataFrame({'A': [1, 2, 3, 4, 5, 100],\n",
    "                     'B': [100, 200, 300, 400, 500, 1000]})\n",
    "\n",
    "# Menggunakan RobustScaler\n",
    "scaler = RobustScaler()\n",
    "robust_scaled_data = scaler.fit_transform(data)\n",
    "robust_scaled_df = pd.DataFrame(robust_scaled_data, columns=['A_robust_scaled', 'B_robust_scaled'])\n",
    "\n",
    "display(robust_scaled_df)\n",
    "\n",
    "# Menggunakan QuantileTransformer\n",
    "\n",
    "transformer = QuantileTransformer(output_distribution='normal')\n",
    "quantile_transformed_data = transformer.fit_transform(data)\n",
    "quantile_transformed_df = pd.DataFrame(quantile_transformed_data, columns=['A_quantile_transformed', 'B_quantile_transformed'])\n",
    "\n",
    "display(quantile_transformed_df)"
   ]
  },
  {
   "cell_type": "markdown",
   "metadata": {},
   "source": [
    "Dalam contoh pertama, kita menggunakan RobustScaler untuk menskalakan data, yang kurang sensitif terhadap pencilan. Dalam contoh kedua, kita menggunakan QuantileTransformer untuk mengubah distribusi data menjadi distribusi normal.\n",
    "\n",
    "Memahami dan menerapkan data scaling dan normalization dengan tepat dapat memainkan peran penting dalam meningkatkan kinerja model Unsupervised Learning. Menggunakan contoh kode Python di atas, kamu dapat menerapkan teknik-teknik ini pada dataset kamu sendiri untuk memastikan bahwa data yang digunakan dalam proses pembelajaran mesin telah diskalakan dan dinormalisasi dengan benar."
   ]
  },
  {
   "cell_type": "markdown",
   "metadata": {},
   "source": [
    "## K-Means Clustering\n",
    "\n",
    "### Pengertian K-Means Clustering\n",
    "\n",
    "Pada dunia machine learning, terdapat banyak metode yang digunakan untuk mengungkap pola atau struktur tersembunyi dari data, salah satunya adalah K-Means Clustering. Sebagai algoritma unsupervised learning, K-Means memiliki peran penting dalam mengklasifikasikan objek-objek dalam data yang tidak memiliki label, dengan mencoba memahami struktur data tersebut dan mengelompokkannya berdasarkan kemiripan fitur.\n",
    "\n",
    "Sebagai salah satu algoritma clustering yang paling populer, K-Means memberikan pendekatan yang cukup intuitif dan mudah dimengerti dalam memecahkan permasalahan tersebut. Dalam K-Means, K adalah parameter yang mewakili jumlah cluster atau grup yang ingin kita buat dari data. Misalnya, jika K=3, maka K-Means akan mencoba untuk mengelompokkan data menjadi 3 cluster.\n",
    "\n",
    "Algoritma K-Means berjalan dengan cara mengelompokkan data ke dalam K cluster sedemikian rupa sehingga setiap data paling dekat dengan pusat cluster (centroid) tempat ia dikelompokkan dibandingkan dengan centroid cluster lainnya. Dalam konteks ini, jarak antara data dan centroid menjadi kunci dalam menentukan pengelompokan data.\n",
    "\n",
    "Secara lebih jelas, bayangkan kamu memiliki sekumpulan titik data pada sebuah bidang dua dimensi. Saat algoritma K-Means dijalankan, pertama-tama ia akan secara acak menetapkan K titik sebagai pusat cluster (centroid). Kemudian, algoritma ini akan menghitung jarak antara setiap titik data dengan semua centroid dan mengelompokkan setiap titik data ke cluster yang memiliki centroid terdekat. Setelah semua titik data dikelompokkan, centroid akan diupdate menjadi titik rata-rata dari semua titik data dalam cluster tersebut. Proses ini akan diulangi hingga posisi centroid tidak berubah lagi atau hingga mencapai jumlah iterasi maksimum yang ditentukan.\n",
    "\n",
    "Keunggulan dari K-Means adalah algoritma ini cukup efisien dalam hal komputasi, sehingga bisa digunakan untuk data dengan skala besar. Selain itu, karena prinsip kerjanya yang cukup sederhana, K-Means juga mudah dimengerti dan diimplementasikan.\n",
    "\n",
    "Namun, ada beberapa hal yang perlu kamu perhatikan saat menggunakan K-Means. Pertama, K-Means sensitif terhadap penentuan centroid awal dan bisa jadi memberikan hasil yang berbeda-beda setiap kali dijalankan. Kedua, K-Means beroperasi dengan asumsi bahwa semua cluster memiliki bentuk bulat dan variasi yang sama, yang bisa menjadi masalah jika data kamu memiliki cluster dengan bentuk atau variasi yang berbeda. Ketiga, kamu perlu menentukan jumlah cluster K sejak awal, yang bisa menjadi tantangan jika kamu tidak memiliki pengetahuan awal tentang data kamu.\n",
    "\n",
    "Meski demikian, K-Means tetap menjadi algoritma clustering yang sangat populer dan banyak digunakan dalam berbagai bidang, seperti segmentasi pasar, pengelompokan dokumen, analisis citra, dan lainnya. Dengan memahami konsep dasar K-Means Clustering dan bagaimana algoritma ini bekerja, kamu sudah selangkah lebih dekat dalam menguasai dunia unsupervised learning.\n",
    "\n",
    "Ada satu hal lagi yang perlu dipahami sebelum kita lanjut ke subbab selanjutnya: K-Means bukanlah solusi untuk semua permasalahan clustering. Setiap metode memiliki kelebihan dan kekurangannya masing-masing, dan pemilihan metode yang tepat sangat bergantung pada sifat dan karakteristik data kamu, serta apa yang ingin kamu capai dari proses clustering. Sebagai contoh, jika kamu memiliki data yang mengandung noise atau outlier, metode lain seperti DBSCAN atau OPTICS mungkin lebih cocok. Jika kamu tidak yakin berapa banyak cluster yang ada dalam data, kamu bisa mencoba metode seperti Hierarchical Clustering atau Gaussian Mixture Models yang tidak memerlukan penentuan jumlah cluster sejak awal.\n",
    "\n",
    "Dengan demikian, penting untuk selalu mengeksplorasi berbagai metode dan pendekatan, dan tidak takut untuk mencoba sesuatu yang baru. Dalam dunia machine learning, tidak ada satu metode yang paling baik untuk semua situasi, dan seringkali keberhasilan suatu proyek sangat bergantung pada kreativitas dan kemampuan kita dalam memahami dan mengadaptasi berbagai metode dan teknik.\n",
    "\n"
   ]
  },
  {
   "cell_type": "markdown",
   "metadata": {},
   "source": [
    "### Algoritma K-Means\n",
    "\n",
    "Setelah memahami apa itu K-Means Clustering, sekarang saatnya kita mengeksplorasi lebih dalam tentang bagaimana algoritma ini bekerja. Algoritma K-Means adalah sebuah proses iteratif yang berusaha mengelompokkan data ke dalam K cluster berdasarkan jarak antara data dan centroid.\n",
    "\n",
    "Langkah-langkah umum dari algoritma K-Means adalah sebagai berikut:\n",
    "\n",
    "1. Inisialisasi Centroid: Pertama-tama, kamu harus menentukan jumlah cluster K yang diinginkan. Setelah itu, K-Means akan secara acak menetapkan K titik sebagai pusat cluster atau centroid. Biasanya, titik-titik ini dipilih secara acak dari data yang ada, meskipun ada juga metode lain seperti K-Means++ yang kita akan bahas di subbab selanjutnya.\n",
    "2. Pengelompokan Data: Setelah centroid diinisialisasi, K-Means akan menghitung jarak antara setiap titik data dengan semua centroid. Jarak ini biasanya dihitung menggunakan jarak Euclidean, meskipun ada juga metrik jarak lain yang bisa digunakan tergantung pada kasus yang dihadapi. Setelah itu, setiap titik data akan dikelompokkan ke cluster yang memiliki centroid terdekat.\n",
    "3. Update Centroid: Setelah semua titik data dikelompokkan, posisi centroid akan diupdate menjadi titik rata-rata dari semua titik data dalam cluster tersebut. Dengan kata lain, koordinat centroid baru adalah rata-rata koordinat semua titik data dalam cluster tersebut.\n",
    "4. Iterasi: Langkah-langkah di atas akan diulangi hingga posisi centroid tidak berubah lagi atau hingga mencapai jumlah iterasi maksimum yang ditentukan. Setiap kali iterasi berlangsung, centroid mungkin berpindah posisi dan beberapa titik data mungkin berpindah ke cluster lain. Namun, jika algoritma sudah konvergen, posisi centroid tidak akan berubah lagi dan setiap titik data sudah berada di cluster yang paling dekat dengan centroidnya.\n",
    "\n",
    "Sebagai algoritma berbasis jarak, K-Means sangat bergantung pada pengukuran jarak antara titik data dan centroid. Dalam banyak kasus, jarak Euclidean digunakan sebagai metrik jarak karena mudah dihitung dan dipahami. Namun, dalam beberapa kasus, kamu mungkin ingin menggunakan metrik jarak lain seperti jarak Manhattan atau jarak Minkowski, tergantung pada sifat data dan permasalahan yang dihadapi.\n",
    "\n",
    "Salah satu kelemahan dari algoritma K-Means adalah sensitif terhadap inisialisasi centroid awal. Jika centroid diinisialisasi secara acak, ada kemungkinan algoritma akan terjebak di local optimum dan tidak bisa mencapai solusi yang optimal. Untuk mengatasi masalah ini, kamu bisa menjalankan algoritma K-Means beberapa kali dengan inisialisasi centroid yang berbeda-beda dan memilih hasil yang terbaik. Alternatif lain adalah menggunakan metode seperti K-Means++ yang mencoba memperbaiki proses inisialisasi centroid.\n",
    "\n",
    "Selain itu, K-Means juga mengasumsikan bahwa setiap cluster memiliki bentuk spherical dan varians yang sama di semua dimensi. Hal ini mungkin bukan asumsi yang tepat untuk semua jenis data. Misalnya, jika cluster dalam data kamu memiliki bentuk yang lebih panjang atau tidak simetris, atau jika varian data berbeda di setiap dimensi, K-Means mungkin tidak akan bekerja dengan baik. Dalam kasus-kasus seperti itu, kamu mungkin perlu mencoba algoritma clustering lain seperti DBSCAN atau Gaussian Mixture Models.\n",
    "\n",
    "Satu lagi hal yang perlu dipertimbangkan adalah cara kita menentukan jumlah cluster K. Pada dasarnya, tidak ada cara yang tepat untuk menentukan jumlah cluster. Beberapa teknik yang bisa digunakan adalah metode elbow, silhoutte method, atau gap statistic, tetapi semuanya memiliki kelebihan dan kekurangan masing-masing. Pada akhirnya, pemilihan jumlah cluster seringkali bergantung pada pengetahuan domain dan tujuan analisis kamu. Kamu mungkin juga perlu mencoba beberapa nilai K yang berbeda dan melihat hasilnya.\n",
    "\n",
    "Meskipun memiliki beberapa kelemahan, K-Means tetap menjadi salah satu algoritma clustering yang paling populer dan banyak digunakan. Alasan utamanya adalah karena K-Means mudah dipahami dan diimplementasikan, serta cukup efisien secara komputasi dibandingkan dengan algoritma clustering lainnya. K-Means juga bisa diterapkan pada berbagai jenis data dan permasalahan, asalkan kamu memahami asumsi dan batasan yang ada.\n",
    "\n",
    "### Pemilihan Jumlah Cluster\n",
    "\n",
    "Ketika kamu menggunakan K-Means Clustering, salah satu keputusan penting yang harus kamu buat adalah menentukan jumlah cluster, K. Bagaimana cara menentukan jumlah cluster yang optimal? Sayangnya, tidak ada jawaban yang pasti untuk pertanyaan ini. Pemilihan jumlah cluster seringkali bergantung pada pengetahuan domain dan tujuan analisis. Namun, ada beberapa metode heuristik yang bisa kamu gunakan untuk membantu menentukan jumlah cluster yang paling sesuai. Dalam subbab ini, kita akan membahas beberapa metode tersebut, yaitu metode Elbow, Silhouette, dan Gap Statistic.\n",
    "\n",
    "#### Metode Elbow\n",
    "\n",
    "Metode Elbow adalah salah satu metode yang paling sering digunakan untuk menentukan jumlah cluster. Ide dasarnya adalah menjalankan K-Means dengan berbagai jumlah cluster dan menghitung Sum of Squared Errors (SSE) untuk setiap jumlah cluster. SSE adalah jumlah kuadrat jarak antara setiap titik data dengan centroid cluster-nya, dan bisa dianggap sebagai ukuran seberapa baik model K-Means kita.\n",
    "\n",
    "Setelah kamu menghitung SSE untuk berbagai jumlah cluster, kamu bisa membuat plot antara jumlah cluster dan SSE. Plot ini biasanya akan memiliki bentuk seperti siku atau 'elbow', dengan SSE yang cepat menurun ketika jumlah cluster ditingkatkan hingga suatu titik, dan kemudian mulai menurun dengan lebih lambat setelah titik tersebut. Titik 'elbow' ini bisa dianggap sebagai jumlah cluster yang optimal, karena menambahkan lebih banyakcluster setelah titik ini tidak akan memberikan peningkatan signifikan dalam penyesuaian model.\n",
    "\n",
    "#### Metode Silhouette\n",
    "\n",
    "Metode Silhouette adalah metode lain yang bisa digunakan untuk menentukan jumlah cluster. Metode ini menghitung skor Silhouette untuk setiap titik data, yang merupakan ukuran seberapa dekat titik data dengan titik-titik lain dalam cluster yang sama dibandingkan dengan titik-titik di cluster lain.\n",
    "\n",
    "Skor Silhouette berkisar antara -1 dan 1. Skor yang mendekati 1 menunjukkan bahwa titik data jauh lebih dekat dengan titik-titik dalam cluster yang sama dibandingkan dengan titik-titik di cluster lain, yang berarti titik data tersebut sudah dikelompokkan dengan baik. Sebaliknya, skor yang mendekati -1 menunjukkan bahwa titik data lebih dekat dengan titik-titik di cluster lain dibandingkan dengan titik-titik dalam cluster yang sama.\n",
    "\n",
    "Untuk menentukan jumlah cluster, kamu bisa menjalankan K-Means dengan berbagai jumlah cluster dan menghitung rata-rata skor Silhouette untuk setiap jumlah cluster. Jumlah cluster dengan rata-rata skor Silhouette tertinggi bisa dianggap sebagai jumlah cluster yang optimal.\n",
    "\n",
    "#### Metode Gap Statistic\n",
    "\n",
    "Metode Gap Statistic adalah metode yang cukup baru dan lebih kompleks dibandingkan dengan metode Elbow dan Silhouette. Metode ini mencoba untuk menstandardisasi SSE dengan membandingkannya dengan SSE dari data yang dihasilkan secara acak.\n",
    "\n",
    "Untuk setiap jumlah cluster, kamu menjalankan K-Means dan menghitung SSE seperti pada metode Elbow. Namun, kamu juga menghasilkan beberapa set data acak dengan distribusi uniform, menjalankan K-Means pada data acak tersebut, dan menghitung SSE untuk setiap set data acak. Gap statistic adalah logaritma dari rasio antara SSE data asli dan rata-rata SSE data acak.\n",
    "\n",
    "Jumlah cluster dengan Gap statistic tertinggi bisa dianggap sebagai jumlah cluster yang optimal. Keuntungan dari metode ini adalah bahwa ia tidak hanya bergantung pada struktur data asli, tetapi juga mempertimbangkan apa yang diharapkan dari data yang dihasilkan secara acak.\n",
    "\n",
    "Sebagai catatan, metode-metode yang kita bahas di atas bukanlah satu-satunya cara untuk menentukan jumlah cluster. Beberapa peneliti dan praktisi mungkin menggunakan metode lain, atau bahkan kombinasi beberapa metode. Namun, metode-metode ini memberikan titik awal yang baik dan seringkali cukup efektif.\n",
    "\n",
    "Ingatlah bahwa K-Means dan algoritma clustering lainnya adalah alat yang bisa membantu kamu memahami struktur data kamu, dan tidak ada algoritma yang bisa menggantikan pengetahuan dan pemahaman kamu tentang data dan domain masalah kamu. Jangan ragu untuk bereksperimen dengan berbagai jumlah cluster dan metode, dan selalu cek hasilnya untuk memastikan bahwa mereka masuk akal dan sesuai dengan tujuan analisis kamu.\n"
   ]
  },
  {
   "cell_type": "markdown",
   "metadata": {},
   "source": [
    "### K-Means++: Penyempurnaan K-Means\n",
    "\n",
    "Selama ini, kita telah membahas tentang K-Means dan bagaimana algoritma ini bekerja. Kita juga telah mempelajari bagaimana menentukan jumlah cluster yang optimal. Tetapi, seperti yang kamu mungkin sudah sadari, ada satu aspek penting dalam K-Means yang masih belum kita bahas: pemilihan titik awal atau centroid awal. Dalam subbab ini, kita akan membahas tentang bagaimana pemilihan titik awal dapat mempengaruhi hasil K-Means, dan bagaimana K-Means++ bisa membantu mengatasi masalah ini.\n",
    "\n",
    "#### Pengaruh Titik Awal pada K-Means\n",
    "\n",
    "Dalam K-Means, kita memulai algoritma dengan memilih secara acak K titik data sebagai centroid awal. Kemudian, kita mengulangi langkah-langkah K-Means sampai centroid tidak bergerak lagi atau sampai iterasi mencapai batas maksimal. Namun, apa yang terjadi jika kita memilih titik awal yang berbeda? Apakah kita akan mendapatkan hasil yang sama?\n",
    "\n",
    "Jawabannya, sebenarnya tidak. Pemilihan titik awal bisa sangat mempengaruhi hasil K-Means. Jika kamu beruntung dan memilih titik awal yang 'baik', kamu bisa mendapatkan hasil yang sangat bagus. Namun, jika kamu tidak beruntung dan memilih titik awal yang 'buruk', kamu bisa mendapatkan hasil yang jauh dari optimal.\n",
    "\n",
    "#### K-Means++: Mengatasi Masalah Pemilihan Titik Awal\n",
    "\n",
    "K-Means++ adalah sebuah metode yang dirancang untuk mengatasi masalah pemilihan titik awal dalam K-Means. Ide dasarnya adalah bukan memilih titik awal secara acak, tetapi memilihnya dengan cara yang lebih cerdas yang berpotensi menghasilkan hasil yang lebih baik.\n",
    "\n",
    "Berikut adalah langkah-langkah dasar dari K-Means++:\n",
    "1. Pilih satu titik data secara acak sebagai centroid pertama.\n",
    "2. Untuk setiap titik data yang belum dipilih sebagai centroid, hitung jarak kuadrat ke centroid terdekat yang sudah dipilih.\n",
    "3. Pilih titik data berikutnya untuk menjadi centroid dengan probabilitas yang proporsional dengan jarak kuadratnya ke centroid terdekat. Artinya, titik data yang lebih jauh dari centroid yang sudah dipilih memiliki probabilitas lebih tinggi untuk dipilih sebagai centroid berikutnya.\n",
    "4. Ulangi langkah 2 dan 3 sampai kita memiliki K centroid.\n",
    "5. Setelah kita memiliki K centroid awal, kita bisa menjalankan K-Means seperti biasa.\n",
    "\n",
    "#### Keuntungan K-Means++\n",
    "\n",
    "K-Means++ memiliki beberapa keuntungan dibandingkan dengan K-Means biasa. Pertama, K-Means++ cenderung menghasilkan hasil yang lebih baik dibandingkan dengan K-Means dengan inisialisasi acak. Karena cara pemilihan centroid awalnya, K-Means++ cenderung menghasilkan cluster yang lebih seimbang dan mengurangi risiko terjebak di solusi lokal yang buruk.\n",
    "\n",
    "Kedua, meski K-Means++ membutuhkan waktu komputasi yang sedikit lebih lama untuk inisialisasi centroid dibandingkan K-Means biasa, dalam banyak kasus, K-Means++ sebenarnya bisa mengurangi jumlah iterasi yang diperlukan untuk konvergensi. Jadi, secara keseluruhan, K-Means++ bisa lebih efisien dari segi waktu komputasi.\n",
    "\n",
    "Ketiga, K-Means++ bisa lebih robust terhadap inisialisasi. Dalam K-Means biasa, jika kamu menjalankan algoritma beberapa kali dengan inisialisasi acak yang berbeda, kamu mungkin mendapatkan hasil yang sangat berbeda. Dengan K-Means++, hasil yang kamu dapatkan cenderung lebih konsisten, meski kamu menjalankan algoritma beberapa kali."
   ]
  },
  {
   "cell_type": "markdown",
   "metadata": {},
   "source": [
    "#### Implementasi K-Means++ dalam Python\n",
    "\n",
    "Mari kita lihat bagaimana cara mengimplementasikan K-Means++ dalam Python. Untungnya, library sklearn sudah menyediakan implementasi K-Means++ yang bisa kita gunakan dengan mudah.\n",
    "\n",
    "Berikut adalah contoh kode untuk melakukan clustering dengan K-Means++:"
   ]
  },
  {
   "cell_type": "code",
   "execution_count": 1,
   "metadata": {},
   "outputs": [
    {
     "name": "stdout",
     "output_type": "stream",
     "text": [
      "Cluster Centers: [[ 1.98258281  0.86771314]\n",
      " [ 0.94973532  4.41906906]\n",
      " [-1.37324398  7.75368871]\n",
      " [-1.58438467  2.83081263]]\n",
      "Labels [0 2 1 2 0 0 3 1 2 2 3 2 1 2 0 1 1 0 3 3 0 0 1 3 3 1 0 1 3 1 2 2 1 2 2 2 2\n",
      " 2 3 0 1 3 1 1 3 3 2 3 2 0 3 0 2 0 0 3 2 3 2 0 2 1 2 3 3 3 2 0 2 3 1 3 2 3\n",
      " 3 2 3 1 0 2 0 1 0 0 2 1 0 1 2 2 1 0 2 3 3 1 0 0 1 3 2 0 2 0 1 0 0 1 2 1 3\n",
      " 3 0 2 0 1 2 0 0 1 3 0 3 0 0 0 0 3 0 3 2 3 3 0 2 3 3 2 1 2 2 3 1 3 1 3 2 1\n",
      " 2 2 2 1 2 1 0 3 2 3 0 1 2 1 1 0 1 3 3 1 0 1 1 2 0 1 3 2 0 0 1 3 0 1 3 3 1\n",
      " 1 1 1 0 2 1 3 1 1 3 3 3 1 3 2 1 3 0 3 1 2 3 2 1 2 1 3 1 1 2 3 3 0 0 1 2 0\n",
      " 0 3 0 3 1 2 2 1 1 2 1 0 3 1 0 3 2 3 0 1 0 2 2 2 2 3 3 2 1 3 0 1 3 3 3 0 0\n",
      " 2 1 1 3 0 2 3 1 2 1 0 0 3 3 1 0 0 0 1 2 2 0 0 1 0 0 0 2 3 2 1 0 0 2 2 2 0\n",
      " 0 1 2 3]\n"
     ]
    },
    {
     "name": "stderr",
     "output_type": "stream",
     "text": [
      "c:\\Development_App\\py38\\lib\\site-packages\\sklearn\\cluster\\_kmeans.py:870: FutureWarning: The default value of `n_init` will change from 10 to 'auto' in 1.4. Set the value of `n_init` explicitly to suppress the warning\n",
      "  warnings.warn(\n"
     ]
    }
   ],
   "source": [
    "from sklearn.cluster import KMeans\n",
    "\n",
    "# Membuat Data Sintetis\n",
    "from sklearn.datasets import make_blobs\n",
    "X, y = make_blobs(n_samples=300, centers=4, cluster_std=0.60, random_state=0)\n",
    "\n",
    "# Melakukan KMeans dengan KMeans++\n",
    "kmeans = KMeans(n_clusters=4, init='k-means++', random_state=0)\n",
    "kmeans.fit(X)\n",
    "\n",
    "# Print Cluster centers dan Labels\n",
    "print('Cluster Centers:', kmeans.cluster_centers_)\n",
    "print('Labels', kmeans.labels_)"
   ]
  },
  {
   "cell_type": "markdown",
   "metadata": {},
   "source": [
    "Dalam kode di atas, kita menggunakan parameter init='k-means++' untuk mengaktifkan K-Means++. Selain itu, semua langkahnya sama dengan K-Means biasa.\n",
    "\n",
    "Kesimpulannya, meski K-Means adalah algoritma yang kuat dan populer, ada beberapa aspek dalam algoritma ini yang bisa ditingkatkan, salah satunya adalah pemilihan titik awal atau centroid awal. K-Means++ menawarkan solusi yang cerdas dan efisien untuk masalah ini, dengan memilih titik awal dengan cara yang berpotensi bisa menghasilkan hasil clustering yang lebih baik dan lebih konsisten."
   ]
  },
  {
   "cell_type": "markdown",
   "metadata": {},
   "source": [
    "### Implementasi K-Means dalam Python\n",
    "\n",
    "Dalam subbab ini, kita akan membahas bagaimana mengimplementasikan algoritma K-Means dalam Python. Kita akan menggunakan library scikit-learn yang populer, yang menyediakan alat yang mudah digunakan untuk melakukan clustering dengan K-Means dan K-Means++.\n",
    "\n",
    "#### Membuat Data Sintetis\n",
    "\n",
    "Langkah pertama dalam melakukan clustering adalah memiliki data yang akan di-cluster. Untuk tujuan pembelajaran ini, kita akan menggunakan fungsi make_blobs dari scikit-learn untuk membuat dataset sintetis."
   ]
  },
  {
   "cell_type": "code",
   "execution_count": 2,
   "metadata": {},
   "outputs": [],
   "source": [
    "from sklearn.datasets import make_blobs\n",
    "\n",
    "# Membuat data sintetis dengan 5 cluster\n",
    "X, y_true = make_blobs(n_samples=5000, centers=5, cluster_std=0.60, random_state=0)"
   ]
  },
  {
   "cell_type": "markdown",
   "metadata": {},
   "source": [
    "Fungsi make_blobs ini akan menghasilkan data acak dengan jumlah cluster yang telah ditentukan. Dalam hal ini, kita akan membuat 5000 sampel dengan 5 pusat cluster. Jika kamu melihat plot dari data ini, kamu akan melihat 5 cluster data yang jelas.\n"
   ]
  },
  {
   "cell_type": "markdown",
   "metadata": {},
   "source": [
    "#### Melakukan Clustering dengan k-Means\n",
    "\n",
    "Setelah kita memiliki data, kita dapat melakukan clustering. Di sini kita akan menggunakan algoritma K-Means++ yang telah kita bahas sebelumnya."
   ]
  },
  {
   "cell_type": "code",
   "execution_count": 3,
   "metadata": {},
   "outputs": [
    {
     "name": "stderr",
     "output_type": "stream",
     "text": [
      "c:\\Development_App\\py38\\lib\\site-packages\\sklearn\\cluster\\_kmeans.py:870: FutureWarning: The default value of `n_init` will change from 10 to 'auto' in 1.4. Set the value of `n_init` explicitly to suppress the warning\n",
      "  warnings.warn(\n"
     ]
    },
    {
     "data": {
      "text/html": [
       "<style>#sk-container-id-1 {color: black;background-color: white;}#sk-container-id-1 pre{padding: 0;}#sk-container-id-1 div.sk-toggleable {background-color: white;}#sk-container-id-1 label.sk-toggleable__label {cursor: pointer;display: block;width: 100%;margin-bottom: 0;padding: 0.3em;box-sizing: border-box;text-align: center;}#sk-container-id-1 label.sk-toggleable__label-arrow:before {content: \"▸\";float: left;margin-right: 0.25em;color: #696969;}#sk-container-id-1 label.sk-toggleable__label-arrow:hover:before {color: black;}#sk-container-id-1 div.sk-estimator:hover label.sk-toggleable__label-arrow:before {color: black;}#sk-container-id-1 div.sk-toggleable__content {max-height: 0;max-width: 0;overflow: hidden;text-align: left;background-color: #f0f8ff;}#sk-container-id-1 div.sk-toggleable__content pre {margin: 0.2em;color: black;border-radius: 0.25em;background-color: #f0f8ff;}#sk-container-id-1 input.sk-toggleable__control:checked~div.sk-toggleable__content {max-height: 200px;max-width: 100%;overflow: auto;}#sk-container-id-1 input.sk-toggleable__control:checked~label.sk-toggleable__label-arrow:before {content: \"▾\";}#sk-container-id-1 div.sk-estimator input.sk-toggleable__control:checked~label.sk-toggleable__label {background-color: #d4ebff;}#sk-container-id-1 div.sk-label input.sk-toggleable__control:checked~label.sk-toggleable__label {background-color: #d4ebff;}#sk-container-id-1 input.sk-hidden--visually {border: 0;clip: rect(1px 1px 1px 1px);clip: rect(1px, 1px, 1px, 1px);height: 1px;margin: -1px;overflow: hidden;padding: 0;position: absolute;width: 1px;}#sk-container-id-1 div.sk-estimator {font-family: monospace;background-color: #f0f8ff;border: 1px dotted black;border-radius: 0.25em;box-sizing: border-box;margin-bottom: 0.5em;}#sk-container-id-1 div.sk-estimator:hover {background-color: #d4ebff;}#sk-container-id-1 div.sk-parallel-item::after {content: \"\";width: 100%;border-bottom: 1px solid gray;flex-grow: 1;}#sk-container-id-1 div.sk-label:hover label.sk-toggleable__label {background-color: #d4ebff;}#sk-container-id-1 div.sk-serial::before {content: \"\";position: absolute;border-left: 1px solid gray;box-sizing: border-box;top: 0;bottom: 0;left: 50%;z-index: 0;}#sk-container-id-1 div.sk-serial {display: flex;flex-direction: column;align-items: center;background-color: white;padding-right: 0.2em;padding-left: 0.2em;position: relative;}#sk-container-id-1 div.sk-item {position: relative;z-index: 1;}#sk-container-id-1 div.sk-parallel {display: flex;align-items: stretch;justify-content: center;background-color: white;position: relative;}#sk-container-id-1 div.sk-item::before, #sk-container-id-1 div.sk-parallel-item::before {content: \"\";position: absolute;border-left: 1px solid gray;box-sizing: border-box;top: 0;bottom: 0;left: 50%;z-index: -1;}#sk-container-id-1 div.sk-parallel-item {display: flex;flex-direction: column;z-index: 1;position: relative;background-color: white;}#sk-container-id-1 div.sk-parallel-item:first-child::after {align-self: flex-end;width: 50%;}#sk-container-id-1 div.sk-parallel-item:last-child::after {align-self: flex-start;width: 50%;}#sk-container-id-1 div.sk-parallel-item:only-child::after {width: 0;}#sk-container-id-1 div.sk-dashed-wrapped {border: 1px dashed gray;margin: 0 0.4em 0.5em 0.4em;box-sizing: border-box;padding-bottom: 0.4em;background-color: white;}#sk-container-id-1 div.sk-label label {font-family: monospace;font-weight: bold;display: inline-block;line-height: 1.2em;}#sk-container-id-1 div.sk-label-container {text-align: center;}#sk-container-id-1 div.sk-container {/* jupyter's `normalize.less` sets `[hidden] { display: none; }` but bootstrap.min.css set `[hidden] { display: none !important; }` so we also need the `!important` here to be able to override the default hidden behavior on the sphinx rendered scikit-learn.org. See: https://github.com/scikit-learn/scikit-learn/issues/21755 */display: inline-block !important;position: relative;}#sk-container-id-1 div.sk-text-repr-fallback {display: none;}</style><div id=\"sk-container-id-1\" class=\"sk-top-container\"><div class=\"sk-text-repr-fallback\"><pre>KMeans(n_clusters=5, random_state=0)</pre><b>In a Jupyter environment, please rerun this cell to show the HTML representation or trust the notebook. <br />On GitHub, the HTML representation is unable to render, please try loading this page with nbviewer.org.</b></div><div class=\"sk-container\" hidden><div class=\"sk-item\"><div class=\"sk-estimator sk-toggleable\"><input class=\"sk-toggleable__control sk-hidden--visually\" id=\"sk-estimator-id-1\" type=\"checkbox\" checked><label for=\"sk-estimator-id-1\" class=\"sk-toggleable__label sk-toggleable__label-arrow\">KMeans</label><div class=\"sk-toggleable__content\"><pre>KMeans(n_clusters=5, random_state=0)</pre></div></div></div></div></div>"
      ],
      "text/plain": [
       "KMeans(n_clusters=5, random_state=0)"
      ]
     },
     "execution_count": 3,
     "metadata": {},
     "output_type": "execute_result"
    }
   ],
   "source": [
    "from sklearn.cluster import KMeans\n",
    "\n",
    "kmeans = KMeans(n_clusters=5, init='k-means++', random_state=0)\n",
    "kmeans.fit(X)"
   ]
  },
  {
   "cell_type": "markdown",
   "metadata": {},
   "source": [
    "Kode di atas akan melakukan clustering pada data X dengan menggunakan 5 cluster. Parameter init='k-means++' menunjukkan bahwa kita menggunakan K-Means++ untuk inisialisasi centroid."
   ]
  },
  {
   "cell_type": "markdown",
   "metadata": {},
   "source": [
    "#### Menampilkan Hasil Clustering\n",
    "\n",
    "Setelah melakukan clustering, kita bisa menampilkan hasilnya. Kita bisa mencetak pusat cluster dan label cluster untuk setiap sampel data."
   ]
  },
  {
   "cell_type": "code",
   "execution_count": 4,
   "metadata": {},
   "outputs": [
    {
     "name": "stdout",
     "output_type": "stream",
     "text": [
      "Cluster Centers: [[-1.23873703  7.81463031]\n",
      " [ 2.01821378  0.89619452]\n",
      " [ 9.24724341 -2.34848471]\n",
      " [-1.52429925  2.91978914]\n",
      " [ 0.96231466  4.2950961 ]]\n",
      "Labels: [0 1 4 ... 1 2 2]\n"
     ]
    }
   ],
   "source": [
    "print('Cluster Centers:', kmeans.cluster_centers_)\n",
    "print('Labels:', kmeans.labels_)"
   ]
  },
  {
   "cell_type": "markdown",
   "metadata": {},
   "source": [
    "Selain itu, kita juga bisa membuat plot dari data dan pusat cluster untuk melihat hasil clustering secara visual."
   ]
  },
  {
   "cell_type": "code",
   "execution_count": 5,
   "metadata": {},
   "outputs": [
    {
     "data": {
      "image/png": "[encoded data removed]",
      "text/plain": [
       "<Figure size 640x480 with 1 Axes>"
      ]
     },
     "metadata": {},
     "output_type": "display_data"
    }
   ],
   "source": [
    "import matplotlib.pyplot as plt\n",
    "\n",
    "# Plot data points\n",
    "plt.scatter(X[:, 0], X[:, 1], s=50, c=kmeans.labels_, cmap='viridis')\n",
    "\n",
    "# Plot cluster centers\n",
    "plt.scatter(kmeans.cluster_centers_[:, 0], kmeans.cluster_centers_[:, 1], s=300, c='red')\n",
    "plt.show()"
   ]
  },
  {
   "cell_type": "markdown",
   "metadata": {},
   "source": [
    "Dalam plot tersebut, titik data ditampilkan dalam warna yang berbeda tergantung pada cluster mereka, dan pusat cluster ditampilkan sebagai titik merah."
   ]
  },
  {
   "cell_type": "markdown",
   "metadata": {},
   "source": [
    "#### Evaluasi Model\n",
    "\n",
    "Dalam unsupervised learning, evaluasi model bisa menjadi tantangan karena tidak ada label sebenarnya yang bisa kita bandingkan dengan hasil clustering. Namun, kita bisa menggunakan metrik seperti Silhouette Score atau Davies-Bouldin Index untuk mengevaluasi seberapa baik hasil clustering."
   ]
  },
  {
   "cell_type": "code",
   "execution_count": 6,
   "metadata": {},
   "outputs": [
    {
     "name": "stdout",
     "output_type": "stream",
     "text": [
      "Silhouette Score: 0.7134468304021891\n"
     ]
    }
   ],
   "source": [
    "from sklearn.metrics import silhouette_score\n",
    "\n",
    "score = silhouette_score(X, kmeans.labels_)\n",
    "print('Silhouette Score:', score)"
   ]
  },
  {
   "cell_type": "markdown",
   "metadata": {},
   "source": [
    "Silhouette Score mengukur seberapa dekat setiap sampel dalam satu cluster dengan sampel dalam cluster lain. Nilai yang lebih tinggi berarti hasil clustering lebih baik.\n",
    "\n",
    "Sampai di sini, kita telah melihat bagaimana cara mengimplementasikan K-Means dalam Python dan cara mengevaluasi hasil clustering. Dengan pengetahuan ini, kamu sekarang memiliki pemahaman yang lebih baik tentang bagaimana algoritma K-Means bekerja dan bagaimana menggunakannya dalam praktik. Seperti yang kamu lihat, dengan beberapa baris kode saja, kita dapat melakukan clustering pada dataset dan memvisualisasikan hasilnya."
   ]
  },
  {
   "cell_type": "markdown",
   "metadata": {},
   "source": [
    "#### Optimisasi Jumlah Cluster\n",
    "\n",
    "Ingatlah bahwa kita secara arbitrari memilih jumlah cluster sebagai 5 ketika kita menjalankan K-Means. Bagaimana jika kita tidak tahu berapa banyak cluster yang harus kita pilih? Salah satu metode yang populer untuk menentukan jumlah cluster optimal adalah metode Elbow. Metode ini melibatkan menjalankan K-Means untuk berbagai jumlah cluster dan merencanakan inersia (yaitu, jumlah kuadrat jarak dari setiap titik sampel ke centroid terdekatnya)."
   ]
  },
  {
   "cell_type": "code",
   "execution_count": 7,
   "metadata": {},
   "outputs": [
    {
     "name": "stderr",
     "output_type": "stream",
     "text": [
      "c:\\Development_App\\py38\\lib\\site-packages\\sklearn\\cluster\\_kmeans.py:870: FutureWarning: The default value of `n_init` will change from 10 to 'auto' in 1.4. Set the value of `n_init` explicitly to suppress the warning\n",
      "  warnings.warn(\n",
      "c:\\Development_App\\py38\\lib\\site-packages\\sklearn\\cluster\\_kmeans.py:870: FutureWarning: The default value of `n_init` will change from 10 to 'auto' in 1.4. Set the value of `n_init` explicitly to suppress the warning\n",
      "  warnings.warn(\n",
      "c:\\Development_App\\py38\\lib\\site-packages\\sklearn\\cluster\\_kmeans.py:870: FutureWarning: The default value of `n_init` will change from 10 to 'auto' in 1.4. Set the value of `n_init` explicitly to suppress the warning\n",
      "  warnings.warn(\n",
      "c:\\Development_App\\py38\\lib\\site-packages\\sklearn\\cluster\\_kmeans.py:870: FutureWarning: The default value of `n_init` will change from 10 to 'auto' in 1.4. Set the value of `n_init` explicitly to suppress the warning\n",
      "  warnings.warn(\n",
      "c:\\Development_App\\py38\\lib\\site-packages\\sklearn\\cluster\\_kmeans.py:870: FutureWarning: The default value of `n_init` will change from 10 to 'auto' in 1.4. Set the value of `n_init` explicitly to suppress the warning\n",
      "  warnings.warn(\n",
      "c:\\Development_App\\py38\\lib\\site-packages\\sklearn\\cluster\\_kmeans.py:870: FutureWarning: The default value of `n_init` will change from 10 to 'auto' in 1.4. Set the value of `n_init` explicitly to suppress the warning\n",
      "  warnings.warn(\n",
      "c:\\Development_App\\py38\\lib\\site-packages\\sklearn\\cluster\\_kmeans.py:870: FutureWarning: The default value of `n_init` will change from 10 to 'auto' in 1.4. Set the value of `n_init` explicitly to suppress the warning\n",
      "  warnings.warn(\n",
      "c:\\Development_App\\py38\\lib\\site-packages\\sklearn\\cluster\\_kmeans.py:870: FutureWarning: The default value of `n_init` will change from 10 to 'auto' in 1.4. Set the value of `n_init` explicitly to suppress the warning\n",
      "  warnings.warn(\n",
      "c:\\Development_App\\py38\\lib\\site-packages\\sklearn\\cluster\\_kmeans.py:870: FutureWarning: The default value of `n_init` will change from 10 to 'auto' in 1.4. Set the value of `n_init` explicitly to suppress the warning\n",
      "  warnings.warn(\n",
      "c:\\Development_App\\py38\\lib\\site-packages\\sklearn\\cluster\\_kmeans.py:870: FutureWarning: The default value of `n_init` will change from 10 to 'auto' in 1.4. Set the value of `n_init` explicitly to suppress the warning\n",
      "  warnings.warn(\n"
     ]
    },
    {
     "data": {
      "image/png": "[encoded data removed]",
      "text/plain": [
       "<Figure size 640x480 with 1 Axes>"
      ]
     },
     "metadata": {},
     "output_type": "display_data"
    }
   ],
   "source": [
    "inertia = []\n",
    "for z in range(1, 11):\n",
    "    kmeans = KMeans(n_clusters=z, init='k-means++', random_state=0)\n",
    "    kmeans.fit(X)\n",
    "    inertia.append(kmeans.inertia_)\n",
    "    \n",
    "plt.plot(range(1, 11), inertia)\n",
    "plt.title('The Elbow Method')\n",
    "plt.xlabel('Number of clusters')\n",
    "plt.ylabel('Inertia')\n",
    "plt.show()"
   ]
  },
  {
   "cell_type": "markdown",
   "metadata": {},
   "source": [
    "Pada plot tersebut, titik \"elbow\" (siku) - tempat kurva mulai melandai - merupakan indikasi yang baik dari jumlah cluster yang optimal. Namun, perlu diingat bahwa metode Elbow ini tidak selalu bekerja dengan sempurna untuk setiap jenis data."
   ]
  },
  {
   "cell_type": "markdown",
   "metadata": {},
   "source": [
    "#### Menyimpan dan Memuat Model\n",
    "\n",
    "Setelah kamu menemukan model yang bekerja dengan baik, kamu mungkin ingin menyimpan model tersebut agar bisa digunakan di kemudian hari. Kamu bisa melakukannya dengan menggunakan modul joblib dari scikit-learn."
   ]
  },
  {
   "cell_type": "code",
   "execution_count": 8,
   "metadata": {},
   "outputs": [],
   "source": [
    "from joblib import dump, load\n",
    "\n",
    "# Menyimpan Model\n",
    "dump(kmeans, 'kmeans.joblib')\n",
    "\n",
    "# Menampilkan Model\n",
    "kmeans_loaded = load('kmeans.joblib')"
   ]
  },
  {
   "cell_type": "markdown",
   "metadata": {},
   "source": [
    "Dengan ini, kamu dapat menyimpan model K-Means yang telah kamu latih dan memuatnya kembali kapan saja kamu butuhkan."
   ]
  },
  {
   "cell_type": "markdown",
   "metadata": {},
   "source": [
    "## Affinity Propagation\n",
    "\n",
    "### Pengertian Affinity Propagation\n",
    "\n",
    "Affinity Propagation adalah teknik machine learning yang digunakan untuk mengidentifikasi cluster data, seperti K-Means, DBSCAN, atau Agglomerative Clustering. Namun, yang membedakan Affinity Propagation dari teknik lainnya adalah cara algoritma ini bekerja.\n",
    "\n",
    "Affinity Propagation, seperti namanya, mempropagandakan afinitas atau kesamaan antara titik data untuk menentukan cluster. Ini adalah teknik yang cukup baru dalam dunia machine learning, diperkenalkan oleh Brendan J. Frey dan Delbert Dueck pada tahun 2007 dalam artikel mereka \"Clustering by Passing Messages Between Data Points\".\n",
    "\n",
    "Berbeda dengan metode clustering lainnya yang seringkali memerlukan penentuan jumlah cluster sebelumnya (seperti K-Means), Affinity Propagation secara otomatis menentukan jumlah cluster berdasarkan data yang diberikan. Hal ini menjadikan Affinity Propagation sebagai pilihan yang menarik, terutama ketika kamu tidak yakin berapa banyak cluster yang seharusnya ada dalam data kamu.\n",
    "\n",
    "Teknik ini berdasarkan pada konsep 'message passing' atau penyebaran pesan antar titik data. Dengan kata lain, setiap titik data mengirimkan pesan ke titik data lainnya tentang kemungkinan titik itu menjadi 'exemplar' atau perwakilan cluster. Proses ini dilakukan secara iteratif hingga titik-titik data mencapai konsensus tentang titik mana yang menjadi 'exemplar' untuk setiap cluster.\n",
    "\n",
    "Affinity Propagation memiliki beberapa keuntungan dibandingkan teknik clustering lainnya. Pertama, seperti yang telah disebutkan, Affinity Propagation secara otomatis menentukan jumlah cluster, sehingga mengurangi beban penentuan jumlah cluster yang optimal. Kedua, teknik ini juga mampu menghasilkan cluster yang lebih baik dalam beberapa kasus, terutama ketika data yang kamu miliki memiliki struktur yang kompleks atau tidak biasa.\n",
    "\n",
    "Namun, Affinity Propagation juga memiliki beberapa kekurangan. Algoritma ini memiliki kompleksitas komputasi yang relatif tinggi, sehingga bisa menjadi sangat lambat saat digunakan pada dataset yang sangat besar. Selain itu, Affinity Propagation juga memerlukan penyetelan parameter yang cermat untuk mendapatkan hasil yang optimal.\n",
    "\n",
    "Dalam konteks praktis, Affinity Propagation bisa digunakan dalam berbagai aplikasi, seperti pengenalan wajah, pengelompokan dokumen, atau pengelompokan produk dalam sistem rekomendasi.\n",
    "\n",
    "### Algoritma Affinity Propagation\n",
    "\n",
    "Setelah mengenal apa itu Affinity Propagation, sekarang waktunya kita mendalami cara kerja algoritma ini. Affinity Propagation mengandalkan pendekatan yang unik dan berbeda dari teknik clustering lainnya. Algoritma ini bekerja dengan memanfaatkan dua jenis \"pesan\" yang berpindah-pindah antara titik data: \"responsibility\" dan \"availability\".\n",
    "\n",
    "Responsibility (r(i, k)) menggambarkan sejauh mana titik k cocok untuk menjadi exemplar bagi titik i, dibandingkan dengan semua titik lainnya. Responsibility pada dasarnya adalah pesan yang dikirimkan oleh titik data i ke titik k yang menyatakan seberapa layak titik k menjadi exemplar bagi i.\n",
    "\n",
    "Availability (a(i, k)) menggambarkan sejauh mana titik i memilih titik k sebagai exemplar-nya, dengan mempertimbangkan semua titik lainnya yang juga mungkin memilih k sebagai exemplar mereka. Availability adalah pesan yang dikirimkan oleh titik data k ke titik i yang menyatakan seberapa layak titik i memilih k sebagai exemplar.\n",
    "\n",
    "Konsep ini mungkin sedikit membingungkan, jadi mari kita coba ilustrasikan dengan contoh. Bayangkan kamu berada di sebuah pesta dan ingin memilih seseorang untuk menjadi DJ. Responsibility dalam konteks ini bisa diartikan sebagai seberapa cocok seseorang untuk menjadi DJ, berdasarkan preferensi musik kamu dan pengetahuan kamu tentang selera musik orang tersebut. Availability, di sisi lain, bisa diartikan sebagai seberapa cocok kamu memilih seseorang tersebut menjadi DJ, dengan mempertimbangkan semua orang lain di pesta yang mungkin juga ingin orang tersebut menjadi DJ.\n",
    "\n",
    "Algoritma Affinity Propagation berjalan secara iteratif, dimana setiap titik data terus-menerus memperbarui dan mengirimkan pesan \"responsibility\" dan \"availability\" ke titik data lainnya. Proses ini diulangi hingga konvergensi, yaitu ketika pesan-pesan tersebut stabil dan tidak berubah lagi. Pada titik ini, titik-titik data telah mencapai konsensus tentang siapa yang harus menjadi exemplar untuk setiap cluster.\n",
    "\n",
    "Secara matematis, perhitungan \"responsibility\" dan \"availability\" dapat dijelaskan sebagai berikut:\n",
    "\n",
    "Perhitungan responsibility:\n",
    "\n",
    "𝑟(𝑖, 𝑘) ← 𝑠(𝑖, 𝑘) − 𝑚𝑎𝑥{𝑎(𝑖, 𝑘') + 𝑠(𝑖, 𝑘') 𝑓𝑜𝑟 𝑎𝑙𝑙 𝑘' ≠ 𝑘}\n",
    "\n",
    "Dimana s(i, k) adalah nilai similarity antara titik i dan k (biasanya dihitung sebagai negatif jarak kuadrat antara dua titik), dan max{...} adalah nilai maksimum dari semua k' yang tidak sama dengan k.\n",
    "\n",
    "Perhitungan availability:\n",
    "\n",
    "𝑎(𝑖, 𝑘) ← 𝑚𝑖𝑛{0, 𝑟(𝑘, 𝑘) + 𝑠𝑢𝑚{𝑚𝑎𝑥{0, 𝑟(𝑖', 𝑘)} 𝑓𝑜𝑟 𝑎𝑙𝑙 𝑖' ≠ 𝑖, 𝑘}}\n",
    "\n",
    "untuk i ≠ k, dan\n",
    "\n",
    "𝑎(𝑘, 𝑘) ← 𝑠𝑢𝑚{𝑚𝑎𝑥{0, 𝑟(𝑖', 𝑘)} 𝑓𝑜𝑟 𝑎𝑙𝑙 𝑖' ≠ 𝑘}\n",
    "\n",
    "Pada akhirnya, titik data i akan memilih titik data k sebagai exemplar-nya jika dan hanya jika r(i, k) + a(i, k) > 0. Jadi, titik data akan memilih titik lain sebagai exemplar jika total responsibility dan availability yang diterimanya dari titik lain tersebut positif.\n",
    "\n",
    "Sejauh ini kita telah membahas teori dasar di balik Affinity Propagation. Dalam prakteknya, algoritma ini memiliki beberapa keuntungan dan kerugian. Salah satu keuntungan utamanya adalah bahwa kita tidak perlu menentukan jumlah cluster sejak awal, yang biasanya menjadi tantangan utama dalam teknik clustering lain seperti K-means. Selain itu, Affinity Propagation juga bisa menghasilkan cluster yang lebih kompleks dan tidak terbatas pada bentuk yang sferis atau globular, seperti yang biasanya kita lihat di K-means atau Gaussian Mixture.\n",
    "\n",
    "Namun, Affinity Propagation juga memiliki beberapa kelemahan. Salah satunya adalah efisiensi komputasi. Algoritma ini cenderung membutuhkan waktu dan memori yang lebih besar dibandingkan dengan algoritma clustering lainnya, terutama ketika dihadapkan dengan dataset yang sangat besar. Oleh karena itu, Affinity Propagation mungkin tidak ideal untuk aplikasi dengan jumlah data yang sangat besar. Meski demikian, Affinity Propagation masih menjadi alat yang sangat berguna dan efektif dalam berbagai aplikasi, terutama ketika jumlah cluster tidak diketahui sebelumnya dan bentuk cluster bisa beragam.\n",
    "\n",
    "### Preferensi dan Similarity\n",
    "\n",
    "Ketika kita berbicara tentang algoritma Affinity Propagation, ada dua konsep yang sangat penting untuk dipahami, yaitu preferensi dan similarity. Keduanya berperan penting dalam menentukan bagaimana data dipartisi menjadi berbagai cluster.\n",
    "\n",
    "Preferensi dalam konteks Affinity Propagation merujuk pada sejauh mana titik data lebih memilih untuk memilih dirinya sendiri sebagai exemplar atau pusat cluster. Dalam hal ini, preferensi biasanya ditentukan oleh nilai median dari similarity antara titik data dengan semua titik lainnya dalam dataset. Dengan kata lain, jika preferensi tinggi, titik data tersebut cenderung menjadi pusat cluster.\n",
    "\n",
    "Pada awalnya, preferensi diatur ke nilai yang sama untuk semua titik data. Namun, nilai ini dapat disesuaikan untuk mendorong pembentukan jumlah cluster yang lebih besar atau lebih kecil. Misalnya, jika preferensi diatur lebih tinggi, lebih banyak titik data akan menjadi pusat cluster, yang berarti akan ada lebih banyak cluster. Sebaliknya, jika preferensi diatur lebih rendah, maka akan ada lebih sedikit cluster yang terbentuk.\n",
    "\n",
    "Similarity adalah ukuran lain yang sangat penting dalam Affinity Propagation. Similarity, atau kesamaan, adalah ukuran sejauh mana dua titik data mirip satu sama lain. Dalam konteks ini, similarity biasanya diukur dengan jarak negatif antara dua titik data. Oleh karena itu, jika dua titik sangat dekat satu sama lain, mereka memiliki similarity yang tinggi, dan jika mereka jauh apart, mereka memiliki similarity yang rendah.\n",
    "\n",
    "Dalam algoritma Affinity Propagation, nilai similarity digunakan untuk mengupdate nilai responsibility dan availability, yang pada gilirannya digunakan untuk menentukan exemplar untuk setiap titik data. Oleh karena itu, similarity memainkan peran kunci dalam menentukan bagaimana data dipartisi menjadi cluster.\n",
    "\n",
    "Pemahaman tentang preferensi dan similarity sangat penting untuk memahami bagaimana Affinity Propagation bekerja. Dengan memahami kedua konsep ini, kamu akan lebih mudah memahami bagaimana algoritma ini membuat keputusan tentang bagaimana mempartisi data menjadi berbagai cluster.\n",
    "\n",
    "### Implementasi Affinity Propagation dalam Python\n",
    "\n",
    "Sekarang saatnya kita melihat bagaimana Affinity Propagation dapat diimplementasikan dalam Python. Python adalah bahasa pemrograman yang sering digunakan dalam bidang data science dan machine learning, dan memiliki banyak library yang memudahkan implementasi algoritma seperti Affinity Propagation.\n",
    "\n",
    "Untuk mengimplementasikan Affinity Propagation, kita akan menggunakan library Scikit-Learn, yang adalah library machine learning populer dalam Python yang menyediakan berbagai algoritma, termasuk Affinity Propagation."
   ]
  },
  {
   "cell_type": "markdown",
   "metadata": {},
   "source": [
    "#### Persiapan Data\n",
    "\n",
    "Pertama-tama, kita perlu data untuk bekerja. Untuk tujuan demonstrasi ini, kita akan menggunakan data sintetis yang dibuat dengan bantuan fungsi make_blobs dari Scikit-Learn. Fungsi ini akan menghasilkan data yang terbagi dalam beberapa cluster."
   ]
  },
  {
   "cell_type": "code",
   "execution_count": 1,
   "metadata": {},
   "outputs": [
    {
     "name": "stdout",
     "output_type": "stream",
     "text": [
      "[[-6.59633932 -7.13901457]\n",
      " [-6.13753182 -6.58081701]\n",
      " [ 5.19820575  2.04917508]\n",
      " [-2.96855852  8.16444176]\n",
      " [-2.76878897  7.51114318]]\n"
     ]
    }
   ],
   "source": [
    "from sklearn.datasets import make_blobs\n",
    "\n",
    "# Membuat data sintetis\n",
    "\n",
    "X, _ = make_blobs(n_samples=1000, centers=3, random_state=42)\n",
    "\n",
    "print(X[:5]) # Mencetak 5 data pertama"
   ]
  },
  {
   "cell_type": "markdown",
   "metadata": {},
   "source": [
    "Pada kode diatas, make_blobs digunakan untuk membuat data sintetis dengan 1000 sampel yang dibagi menjadi tiga cluster. random_state digunakan untuk memastikan hasil yang konsisten setiap kali kode dijalankan."
   ]
  },
  {
   "cell_type": "markdown",
   "metadata": {},
   "source": [
    "#### Membuat Model Affinity Propagation\n",
    "\n",
    "Setelah kita memiliki data, langkah berikutnya adalah membuat model Affinity Propagation. Kita bisa melakukannya dengan menggunakan class AffinityPropagation dari Scikit-Learn.\n"
   ]
  },
  {
   "cell_type": "code",
   "execution_count": 2,
   "metadata": {},
   "outputs": [],
   "source": [
    "from sklearn.cluster import AffinityPropagation\n",
    "\n",
    "# Membuat model Affinity Propagation\n",
    "model = AffinityPropagation(random_state=42)"
   ]
  },
  {
   "cell_type": "markdown",
   "metadata": {},
   "source": [
    "Pada kode diatas, kita membuat instance dari class AffinityPropagation dan menyimpannya dalam variabel model. Seperti sebelumnya, kita menggunakan random_state untuk memastikan hasil yang konsisten."
   ]
  },
  {
   "cell_type": "markdown",
   "metadata": {},
   "source": [
    "#### Training Model\n",
    "\n",
    "Setelah model dibuat, kita bisa melatihnya menggunakan data yang kita miliki. Kita bisa melakukannya dengan memanggil metode fit pada model."
   ]
  },
  {
   "cell_type": "code",
   "execution_count": 3,
   "metadata": {},
   "outputs": [
    {
     "name": "stderr",
     "output_type": "stream",
     "text": [
      "c:\\Development_App\\py38\\lib\\site-packages\\sklearn\\cluster\\_affinity_propagation.py:143: ConvergenceWarning: Affinity propagation did not converge, this model may return degenerate cluster centers and labels.\n",
      "  warnings.warn(\n"
     ]
    },
    {
     "data": {
      "text/html": [
       "<style>#sk-container-id-1 {color: black;background-color: white;}#sk-container-id-1 pre{padding: 0;}#sk-container-id-1 div.sk-toggleable {background-color: white;}#sk-container-id-1 label.sk-toggleable__label {cursor: pointer;display: block;width: 100%;margin-bottom: 0;padding: 0.3em;box-sizing: border-box;text-align: center;}#sk-container-id-1 label.sk-toggleable__label-arrow:before {content: \"▸\";float: left;margin-right: 0.25em;color: #696969;}#sk-container-id-1 label.sk-toggleable__label-arrow:hover:before {color: black;}#sk-container-id-1 div.sk-estimator:hover label.sk-toggleable__label-arrow:before {color: black;}#sk-container-id-1 div.sk-toggleable__content {max-height: 0;max-width: 0;overflow: hidden;text-align: left;background-color: #f0f8ff;}#sk-container-id-1 div.sk-toggleable__content pre {margin: 0.2em;color: black;border-radius: 0.25em;background-color: #f0f8ff;}#sk-container-id-1 input.sk-toggleable__control:checked~div.sk-toggleable__content {max-height: 200px;max-width: 100%;overflow: auto;}#sk-container-id-1 input.sk-toggleable__control:checked~label.sk-toggleable__label-arrow:before {content: \"▾\";}#sk-container-id-1 div.sk-estimator input.sk-toggleable__control:checked~label.sk-toggleable__label {background-color: #d4ebff;}#sk-container-id-1 div.sk-label input.sk-toggleable__control:checked~label.sk-toggleable__label {background-color: #d4ebff;}#sk-container-id-1 input.sk-hidden--visually {border: 0;clip: rect(1px 1px 1px 1px);clip: rect(1px, 1px, 1px, 1px);height: 1px;margin: -1px;overflow: hidden;padding: 0;position: absolute;width: 1px;}#sk-container-id-1 div.sk-estimator {font-family: monospace;background-color: #f0f8ff;border: 1px dotted black;border-radius: 0.25em;box-sizing: border-box;margin-bottom: 0.5em;}#sk-container-id-1 div.sk-estimator:hover {background-color: #d4ebff;}#sk-container-id-1 div.sk-parallel-item::after {content: \"\";width: 100%;border-bottom: 1px solid gray;flex-grow: 1;}#sk-container-id-1 div.sk-label:hover label.sk-toggleable__label {background-color: #d4ebff;}#sk-container-id-1 div.sk-serial::before {content: \"\";position: absolute;border-left: 1px solid gray;box-sizing: border-box;top: 0;bottom: 0;left: 50%;z-index: 0;}#sk-container-id-1 div.sk-serial {display: flex;flex-direction: column;align-items: center;background-color: white;padding-right: 0.2em;padding-left: 0.2em;position: relative;}#sk-container-id-1 div.sk-item {position: relative;z-index: 1;}#sk-container-id-1 div.sk-parallel {display: flex;align-items: stretch;justify-content: center;background-color: white;position: relative;}#sk-container-id-1 div.sk-item::before, #sk-container-id-1 div.sk-parallel-item::before {content: \"\";position: absolute;border-left: 1px solid gray;box-sizing: border-box;top: 0;bottom: 0;left: 50%;z-index: -1;}#sk-container-id-1 div.sk-parallel-item {display: flex;flex-direction: column;z-index: 1;position: relative;background-color: white;}#sk-container-id-1 div.sk-parallel-item:first-child::after {align-self: flex-end;width: 50%;}#sk-container-id-1 div.sk-parallel-item:last-child::after {align-self: flex-start;width: 50%;}#sk-container-id-1 div.sk-parallel-item:only-child::after {width: 0;}#sk-container-id-1 div.sk-dashed-wrapped {border: 1px dashed gray;margin: 0 0.4em 0.5em 0.4em;box-sizing: border-box;padding-bottom: 0.4em;background-color: white;}#sk-container-id-1 div.sk-label label {font-family: monospace;font-weight: bold;display: inline-block;line-height: 1.2em;}#sk-container-id-1 div.sk-label-container {text-align: center;}#sk-container-id-1 div.sk-container {/* jupyter's `normalize.less` sets `[hidden] { display: none; }` but bootstrap.min.css set `[hidden] { display: none !important; }` so we also need the `!important` here to be able to override the default hidden behavior on the sphinx rendered scikit-learn.org. See: https://github.com/scikit-learn/scikit-learn/issues/21755 */display: inline-block !important;position: relative;}#sk-container-id-1 div.sk-text-repr-fallback {display: none;}</style><div id=\"sk-container-id-1\" class=\"sk-top-container\"><div class=\"sk-text-repr-fallback\"><pre>AffinityPropagation(random_state=42)</pre><b>In a Jupyter environment, please rerun this cell to show the HTML representation or trust the notebook. <br />On GitHub, the HTML representation is unable to render, please try loading this page with nbviewer.org.</b></div><div class=\"sk-container\" hidden><div class=\"sk-item\"><div class=\"sk-estimator sk-toggleable\"><input class=\"sk-toggleable__control sk-hidden--visually\" id=\"sk-estimator-id-1\" type=\"checkbox\" checked><label for=\"sk-estimator-id-1\" class=\"sk-toggleable__label sk-toggleable__label-arrow\">AffinityPropagation</label><div class=\"sk-toggleable__content\"><pre>AffinityPropagation(random_state=42)</pre></div></div></div></div></div>"
      ],
      "text/plain": [
       "AffinityPropagation(random_state=42)"
      ]
     },
     "execution_count": 3,
     "metadata": {},
     "output_type": "execute_result"
    }
   ],
   "source": [
    "# Melatih model\n",
    "model.fit(X)"
   ]
  },
  {
   "cell_type": "markdown",
   "metadata": {},
   "source": [
    "Metode fit akan menjalankan algoritma Affinity Propagation pada data, belajar dari data dan menyesuaikan parameter model sehingga model dapat membuat prediksi yang akurat tentang cluster yang berbeda dalam data."
   ]
  },
  {
   "cell_type": "markdown",
   "metadata": {},
   "source": [
    "#### Evaluasi Model\n",
    "\n",
    "Setelah model dilatih, kita bisa mengevaluasinya. Dalam kasus clustering, kita biasanya melihat seberapa baik model telah mempartisi data. Untuk tujuan ini, kita bisa melihat label cluster yang telah ditentukan oleh model."
   ]
  },
  {
   "cell_type": "code",
   "execution_count": 4,
   "metadata": {},
   "outputs": [
    {
     "name": "stdout",
     "output_type": "stream",
     "text": [
      "[  0   1   2 545  60]\n"
     ]
    }
   ],
   "source": [
    "# Mendapatkan label cluster\n",
    "\n",
    "labels = model.labels_\n",
    "\n",
    "print(labels[:5]) # Mencetak 5 label pertama"
   ]
  },
  {
   "cell_type": "markdown",
   "metadata": {},
   "source": [
    "Pada kode di atas, kita menggunakan atribut labels_ pada model untuk mendapatkan label cluster untuk setiap titik data. Label ini menunjukkan cluster mana yang ditugaskan model untuk setiap titik data."
   ]
  },
  {
   "cell_type": "markdown",
   "metadata": {},
   "source": [
    "#### Visualisasi Hasil\n",
    "\n",
    "Untuk memahami lebih baik bagaimana model telah mempartisi data, kita bisa memvisualisasikannya. Kita akan menggunakan library matplotlib, yang adalah library visualisasi populer dalam Python."
   ]
  },
  {
   "cell_type": "code",
   "execution_count": 5,
   "metadata": {},
   "outputs": [
    {
     "data": {
      "image/png": "[encoded data removed]",
      "text/plain": [
       "<Figure size 640x480 with 1 Axes>"
      ]
     },
     "metadata": {},
     "output_type": "display_data"
    }
   ],
   "source": [
    "import matplotlib.pyplot as plt\n",
    "\n",
    "# Plot Data\n",
    "\n",
    "plt.scatter(X[:, 0], X[:, 1], c=labels)\n",
    "plt.title('Affinity Propagation Clustering')\n",
    "plt.show()"
   ]
  }
 ],
 "metadata": {
  "kernelspec": {
   "display_name": "Python 3",
   "language": "python",
   "name": "python3"
  },
  "language_info": {
   "codemirror_mode": {
    "name": "ipython",
    "version": 3
   },
   "file_extension": ".py",
   "mimetype": "text/x-python",
   "name": "python",
   "nbconvert_exporter": "python",
   "pygments_lexer": "ipython3",
   "version": "3.8.10"
  }
 },
 "nbformat": 4,
 "nbformat_minor": 2
}
