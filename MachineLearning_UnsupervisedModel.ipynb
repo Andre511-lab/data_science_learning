{
 "cells": [
  {
   "cell_type": "markdown",
   "metadata": {},
   "source": [
    "## Pendahuluan\n",
    "\n",
    "### Pengertian Machine Learning\n",
    "\n",
    "Machine Learning adalah bidang ilmu yang berfokus pada pengembangan algoritma yang dapat belajar dari dan membuat prediksi atau keputusan berdasarkan data. \n",
    "\n",
    "Secara umum, ada tiga kategori utama dalam Machine Learning, yaitu Supervised Learning, Unsupervised Learning, dan Reinforcement Learning.\n",
    "\n",
    "Supervised Learning adalah proses melatih model dengan menggunakan data berlabel, di mana setiap data memiliki label atau target yang diinginkan. Contoh metode Supervised Learning adalah regresi dan klasifikasi.\n",
    "\n",
    "### Pengertian Unsupervised Learning\n",
    "\n",
    "Unsupervised Learning adalah metode Machine Learning yang tidak menggunakan data berlabel. Model akan belajar dari data tanpa ada informasi mengenai target yang diinginkan. Dalam Unsupervised Learning, algoritma akan mencoba mengidentifikasi pola atau struktur yang tersembunyi dalam data. Unsupervised Learning memiliki banyak potensi untuk digunakan dalam berbagai aplikasi karena dapat mengatasi masalah di mana data berlabel tidak tersedia atau sulit diperoleh."
   ]
  },
  {
   "cell_type": "code",
   "execution_count": null,
   "metadata": {},
   "outputs": [],
   "source": []
  }
 ],
 "metadata": {
  "language_info": {
   "name": "python"
  }
 },
 "nbformat": 4,
 "nbformat_minor": 2
}
